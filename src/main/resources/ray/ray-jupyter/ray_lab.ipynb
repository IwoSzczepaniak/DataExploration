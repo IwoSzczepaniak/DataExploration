{
 "cells": [
  {
   "cell_type": "markdown",
   "id": "29cba933-c936-45ad-ab1c-ebf447c53f4e",
   "metadata": {},
   "source": [
    "# Platforma ray"
   ]
  },
  {
   "cell_type": "code",
   "execution_count": 42,
   "id": "d13f8950-2673-46cd-b6f2-bb7976b74e6e",
   "metadata": {},
   "outputs": [],
   "source": [
    "import ray\n",
    "import time\n",
    "# ray.init(dashboard_host='0.0.0.0')"
   ]
  },
  {
   "cell_type": "code",
   "execution_count": 43,
   "id": "8006372f-3746-4e7c-9ce0-8fa3752794e2",
   "metadata": {},
   "outputs": [],
   "source": [
    "# ray.shutdown()"
   ]
  },
  {
   "cell_type": "markdown",
   "id": "4eb0c8d4-cd96-4db0-8603-689ef5153efc",
   "metadata": {},
   "source": [
    "Tablica *Dashboard* jest dostępna pod adresem http://localhost:8265"
   ]
  },
  {
   "cell_type": "markdown",
   "id": "589c8eb8-e2f5-4053-b302-63c9e1f4f04d",
   "metadata": {},
   "source": [
    "## 1. Zadania (Tasks)\n",
    "Cytując: *\"Ray enables arbitrary functions to be executed asynchronously on separate Python workers. Such functions are called Ray remote functions and their asynchronous invocations are called Ray tasks.\"*"
   ]
  },
  {
   "cell_type": "code",
   "execution_count": 44,
   "id": "bd25826d-4d83-4587-bb35-dd1f339d7de3",
   "metadata": {},
   "outputs": [],
   "source": [
    "@ray.remote\n",
    "def suma(a,b):\n",
    "    return a + b"
   ]
  },
  {
   "cell_type": "code",
   "execution_count": 45,
   "id": "dc4ffaf0-5d42-446d-8c6e-40b3c0a8cd82",
   "metadata": {},
   "outputs": [],
   "source": [
    "# Ta funkcja nie zostanie wywołana\n",
    "# suma(1,2)"
   ]
  },
  {
   "cell_type": "code",
   "execution_count": 46,
   "id": "e72792ff-41fd-41c8-a882-972efadd647a",
   "metadata": {},
   "outputs": [
    {
     "data": {
      "text/plain": [
       "ObjectRef(3017bfc9a25f186bffffffffffffffffffffffff0100000001000000)"
      ]
     },
     "execution_count": 46,
     "metadata": {},
     "output_type": "execute_result"
    }
   ],
   "source": [
    "# Sprawdż dashboard\n",
    "suma.remote(1,2)"
   ]
  },
  {
   "cell_type": "code",
   "execution_count": 47,
   "id": "2c713a3d-c93f-425f-a052-9a9f481327bd",
   "metadata": {},
   "outputs": [
    {
     "data": {
      "text/plain": [
       "3"
      ]
     },
     "execution_count": 47,
     "metadata": {},
     "output_type": "execute_result"
    }
   ],
   "source": [
    "result_ref = suma.remote(1,2)\n",
    "# Pobierz wynik\n",
    "ray.get(result_ref)"
   ]
  },
  {
   "cell_type": "markdown",
   "id": "7008333f-c8cf-4184-81d4-0b5ba45efe4e",
   "metadata": {},
   "source": [
    "### 1.1 Składanie wywołań "
   ]
  },
  {
   "cell_type": "code",
   "execution_count": 48,
   "id": "664d2fa7-b1dd-4a65-b424-856ab873a79a",
   "metadata": {},
   "outputs": [
    {
     "data": {
      "text/plain": [
       "10"
      ]
     },
     "execution_count": 48,
     "metadata": {},
     "output_type": "execute_result"
    }
   ],
   "source": [
    "result_ref = suma.remote(suma.remote(1,2),suma.remote(3,4))\n",
    "ray.get(result_ref)"
   ]
  },
  {
   "cell_type": "markdown",
   "id": "bf12ff84-ad8a-41b7-b6ff-4ed5671e3f73",
   "metadata": {},
   "source": [
    "Zadania ```suma.remote(1,2)``` i ```suma.remote(3,4)``` mogą być wykonywane współbieżnie na różnych węzłach obliczeniowych. Zadanie zwracające ostateczny wynik będzie oczekiwało na zakończenie poprzednich.\n",
    "\n",
    "Ray analizuje zależności między funkcjami i tworzy graf zależności, który jest używany do efektywnego i równoległego wykonania zadań. "
   ]
  },
  {
   "cell_type": "code",
   "execution_count": 49,
   "id": "fbb852d3-6203-40c8-9bf0-d8fdefd23862",
   "metadata": {},
   "outputs": [
    {
     "data": {
      "text/plain": [
       "10"
      ]
     },
     "execution_count": 49,
     "metadata": {},
     "output_type": "execute_result"
    }
   ],
   "source": [
    "r1 = suma.remote(1,2)\n",
    "r2 = suma.remote(3,4)\n",
    "result_ref = suma.remote(r1,r2)\n",
    "ray.get(result_ref)"
   ]
  },
  {
   "cell_type": "markdown",
   "id": "b876283b-6a86-46f1-a9c8-83824e6f6757",
   "metadata": {},
   "source": [
    "### 1.2 Jeśli funkcja nie zwraca wartości"
   ]
  },
  {
   "cell_type": "code",
   "execution_count": 50,
   "id": "7263a47b-cacf-40fd-b70d-831e4aad1513",
   "metadata": {},
   "outputs": [
    {
     "data": {
      "text/plain": [
       "ObjectRef(9925a883e34ce681ffffffffffffffffffffffff0100000001000000)"
      ]
     },
     "execution_count": 50,
     "metadata": {},
     "output_type": "execute_result"
    }
   ],
   "source": [
    "@ray.remote\n",
    "def void_foo(*params):\n",
    "    for k in params:\n",
    "        print(k,end=' ')\n",
    "    print()\n",
    "\n",
    "void_foo.remote(1,'ala',3.5,True)"
   ]
  },
  {
   "cell_type": "markdown",
   "id": "c6fc566c-0987-47b9-8979-4fdbc10fe4d7",
   "metadata": {},
   "source": [
    "**TODO 1.2.1** Znajdź wydruk Dashboard:Jobs > void_foo > stdout"
   ]
  },
  {
   "cell_type": "markdown",
   "id": "df2d8978-1d7e-473e-814b-e3ab4682e971",
   "metadata": {},
   "source": [
    "### 1.3 Ciąg Fibonacciego -  rekurencja\n",
    "Napisz funkcję obliczającą rekurencyjnie n-tą wartość ciągu Fibbonaciego.\n",
    "Sprawdź na tablicy Dashboard ile razy była wywołana funckja dla róznych wartości parametrów (ale raczej n <= 10)"
   ]
  },
  {
   "cell_type": "code",
   "execution_count": 51,
   "id": "d9b9a932-4b28-407e-804b-8e9e2cc0e7f4",
   "metadata": {},
   "outputs": [
    {
     "data": {
      "text/plain": [
       "55"
      ]
     },
     "execution_count": 51,
     "metadata": {},
     "output_type": "execute_result"
    }
   ],
   "source": [
    "@ray.remote\n",
    "def fibo(n):\n",
    "    print(n)\n",
    "    if n <= 1:\n",
    "        return n\n",
    "    else:\n",
    "        return ray.get(fibo.remote(n-1)) + ray.get(fibo.remote(n-2))\n",
    "\n",
    "obj_ref = fibo.remote(10)\n",
    "ray.get(obj_ref)"
   ]
  },
  {
   "cell_type": "markdown",
   "id": "bb38196e-a833-403d-9953-b58bf127c745",
   "metadata": {},
   "source": [
    "### 1.4 Ciąg Fibonacciego -  iteracyjnie"
   ]
  },
  {
   "cell_type": "code",
   "execution_count": 52,
   "id": "26c2a36e-9911-4f01-b61d-6284a5f53950",
   "metadata": {},
   "outputs": [
    {
     "data": {
      "text/plain": [
       "3"
      ]
     },
     "execution_count": 52,
     "metadata": {},
     "output_type": "execute_result"
    }
   ],
   "source": [
    "@ray.remote\n",
    "def next_fibo_number(a,b):\n",
    "    return a + b\n",
    "\n",
    "obj_ref = next_fibo_number.remote(1,2)\n",
    "ray.get(obj_ref)\n"
   ]
  },
  {
   "cell_type": "markdown",
   "id": "a788484e-55ee-4e5a-9ee7-4332ab4ca6f5",
   "metadata": {},
   "source": [
    "**TODO 1.4.1** Wykorzystaj funcję ```next_fibo_number``` do wzynaczenia elementu ciągu Fibboncciego o mnumerze 102 "
   ]
  },
  {
   "cell_type": "code",
   "execution_count": 53,
   "id": "adaf0959-fc47-43fe-b255-4a21ebf2f92e",
   "metadata": {},
   "outputs": [
    {
     "data": {
      "text/plain": [
       "927372692193078999176"
      ]
     },
     "execution_count": 53,
     "metadata": {},
     "output_type": "execute_result"
    }
   ],
   "source": [
    "@ray.remote\n",
    "def fibo_iterative(n):\n",
    "    if n <= 2:\n",
    "        return 1\n",
    "        \n",
    "    a = 1\n",
    "    b = 1\n",
    "    \n",
    "    for _ in range(n-2):\n",
    "        obj_ref = next_fibo_number.remote(a, b)\n",
    "        next_num = ray.get(obj_ref)\n",
    "        a = b\n",
    "        b = next_num\n",
    "    \n",
    "    return b\n",
    "\n",
    "result = ray.get(fibo_iterative.remote(102))\n",
    "result\n",
    "\n"
   ]
  },
  {
   "cell_type": "markdown",
   "id": "c4f8a176-1641-4f21-8d1c-e3bde0f6a969",
   "metadata": {},
   "source": [
    "Dlaczego w tej wersji działa znacznie szybciej? Jak (zapewne) wyglądają drzewa zależnoci w tych dwóch przypadkach?\n",
    "\n"
   ]
  },
  {
   "cell_type": "markdown",
   "id": "df01a84d-7098-48e8-b9f0-3f1be22bc129",
   "metadata": {},
   "source": [
    "### 1.5 Obliczanie pi"
   ]
  },
  {
   "cell_type": "markdown",
   "id": "aa00351e-f52e-48e4-b00b-d489665c1539",
   "metadata": {},
   "source": [
    "**TODO 1.5.1** Napisz funkcję zgodnie ze specyfikacją"
   ]
  },
  {
   "cell_type": "code",
   "execution_count": 54,
   "id": "d069dcf4-f55c-4535-bb40-ccbedd876364",
   "metadata": {},
   "outputs": [
    {
     "data": {
      "text/plain": [
       "3.143676"
      ]
     },
     "execution_count": 54,
     "metadata": {},
     "output_type": "execute_result"
    }
   ],
   "source": [
    "import random\n",
    "num_slices=100\n",
    "slice_size=1000_000\n",
    "\n",
    "@ray.remote\n",
    "def compute_pi_on_slice(slice_size):\n",
    "    \"\"\"\n",
    "    Params: slice_size - liczba powtórzeń\n",
    "    Funkcja losuje dwie liczby x i y i sparwdza, czy mieszczą się w ćwiartce koła. Jesli tak, inkremetuje sumę.\n",
    "    Returns: 4 * suma/ slice_size\n",
    "    \"\"\"\n",
    "    sum_val = 0\n",
    "    for _ in range(slice_size):\n",
    "        x = random.random()\n",
    "        y = random.random()\n",
    "        if x*x + y*y <= 1.0:\n",
    "            sum_val += 1\n",
    "    return 4 * sum_val / slice_size\n",
    "\n",
    "object_ref = compute_pi_on_slice.remote(slice_size=slice_size)\n",
    "ray.get(object_ref)"
   ]
  },
  {
   "cell_type": "code",
   "execution_count": 55,
   "id": "6db0c4be-2d92-4ce6-a39b-01e461352e63",
   "metadata": {},
   "outputs": [],
   "source": [
    "# Dashboard\n",
    "tab_ref = [compute_pi_on_slice.remote(slice_size=slice_size) for i in range(num_slices)]"
   ]
  },
  {
   "cell_type": "code",
   "execution_count": 56,
   "id": "d655c20e-2dbb-4f32-99d9-4a41106ba32d",
   "metadata": {},
   "outputs": [],
   "source": [
    "# Pobiera wszystkie elementy\n",
    "# ray.get(tab_ref)"
   ]
  },
  {
   "cell_type": "code",
   "execution_count": 57,
   "id": "5d556f46-f160-4997-9350-24d50265b0f2",
   "metadata": {},
   "outputs": [],
   "source": [
    "tab_ref = [compute_pi_on_slice.remote(slice_size=slice_size) for i in range(num_slices)]"
   ]
  },
  {
   "cell_type": "markdown",
   "id": "eefc5aed-8eea-4268-aa32-4220a7774619",
   "metadata": {},
   "source": [
    "Funkcja ```ray.wait()``` pobiera informacje o gotowych i oczekujących zadaniach na liście"
   ]
  },
  {
   "cell_type": "code",
   "execution_count": 58,
   "id": "35342ada-6fec-4ed4-8c0e-9cbfdadc1c94",
   "metadata": {},
   "outputs": [
    {
     "name": "stdout",
     "output_type": "stream",
     "text": [
      "-------------------------- ready ------------------------\n",
      "[]\n",
      "------------------------ remaining ----------------------\n",
      "[ObjectRef(0295e1e397f9e892ffffffffffffffffffffffff0100000001000000), ObjectRef(69f768ef89349d6effffffffffffffffffffffff0100000001000000), ObjectRef(dec9a121b3189cafffffffffffffffffffffffff0100000001000000), ObjectRef(452b56fb86262857ffffffffffffffffffffffff0100000001000000), ObjectRef(fcd3a9249aa31c51ffffffffffffffffffffffff0100000001000000), ObjectRef(7527a481233e71abffffffffffffffffffffffff0100000001000000), ObjectRef(005a9da80ac64db6ffffffffffffffffffffffff0100000001000000), ObjectRef(eedc09537f853254ffffffffffffffffffffffff0100000001000000), ObjectRef(07e452a767aba1a1ffffffffffffffffffffffff0100000001000000), ObjectRef(baff1dfcdb9be260ffffffffffffffffffffffff0100000001000000), ObjectRef(579b9e22822d30fdffffffffffffffffffffffff0100000001000000), ObjectRef(09a979d04f7a355bffffffffffffffffffffffff0100000001000000), ObjectRef(cb5fa65dd93211f1ffffffffffffffffffffffff0100000001000000), ObjectRef(f8a3d29ef5b088d9ffffffffffffffffffffffff0100000001000000), ObjectRef(86f53fb87cbd4a51ffffffffffffffffffffffff0100000001000000), ObjectRef(13424111328638abffffffffffffffffffffffff0100000001000000), ObjectRef(8af1808d24be909effffffffffffffffffffffff0100000001000000), ObjectRef(ec6ba596ce4bb417ffffffffffffffffffffffff0100000001000000), ObjectRef(d655c74a9b4ff2d8ffffffffffffffffffffffff0100000001000000), ObjectRef(02cb6f158679e06effffffffffffffffffffffff0100000001000000), ObjectRef(a00268da4f47f7d6ffffffffffffffffffffffff0100000001000000), ObjectRef(9933034a4a01eebfffffffffffffffffffffffff0100000001000000), ObjectRef(3e5db1213a08f420ffffffffffffffffffffffff0100000001000000), ObjectRef(fe49a37f6682ff8bffffffffffffffffffffffff0100000001000000), ObjectRef(7744f4d7388d2afdffffffffffffffffffffffff0100000001000000), ObjectRef(333e3d255be2acf1ffffffffffffffffffffffff0100000001000000), ObjectRef(91ec2cea3b41f5b8ffffffffffffffffffffffff0100000001000000), ObjectRef(2b1695e6cb092d60ffffffffffffffffffffffff0100000001000000), ObjectRef(f8a162c81a18052dffffffffffffffffffffffff0100000001000000), ObjectRef(7cd3e55f4428feabffffffffffffffffffffffff0100000001000000), ObjectRef(8dc8e155ebefb6a6ffffffffffffffffffffffff0100000001000000), ObjectRef(41802f9eb08d8c59ffffffffffffffffffffffff0100000001000000), ObjectRef(f6027abcc0c5a32fffffffffffffffffffffffff0100000001000000), ObjectRef(340672c78fffcf7fffffffffffffffffffffffff0100000001000000), ObjectRef(328cd9d694d92b6affffffffffffffffffffffff0100000001000000), ObjectRef(18b2884533b55af3ffffffffffffffffffffffff0100000001000000), ObjectRef(0b1ae0728cc06aaaffffffffffffffffffffffff0100000001000000), ObjectRef(4b6d08ad7b9284bbffffffffffffffffffffffff0100000001000000), ObjectRef(e184dd1a78990910ffffffffffffffffffffffff0100000001000000), ObjectRef(faf101f0caef523affffffffffffffffffffffff0100000001000000), ObjectRef(5c8b4e993e19a8a4ffffffffffffffffffffffff0100000001000000), ObjectRef(deb6e2c85e1450a1ffffffffffffffffffffffff0100000001000000), ObjectRef(527e70315a2f20d7ffffffffffffffffffffffff0100000001000000), ObjectRef(22329e39e7b92952ffffffffffffffffffffffff0100000001000000), ObjectRef(3f7a099a16bab56dffffffffffffffffffffffff0100000001000000), ObjectRef(10f15589cad4428bffffffffffffffffffffffff0100000001000000), ObjectRef(3a9d7232bb4342caffffffffffffffffffffffff0100000001000000), ObjectRef(ea5b1554f4ad9caaffffffffffffffffffffffff0100000001000000), ObjectRef(0225a066da4ad0c1ffffffffffffffffffffffff0100000001000000), ObjectRef(c28e0b42b1b2b757ffffffffffffffffffffffff0100000001000000), ObjectRef(4c047090f94c0572ffffffffffffffffffffffff0100000001000000), ObjectRef(eaa6ff719b37aa83ffffffffffffffffffffffff0100000001000000), ObjectRef(4ef7c43eb8f8e5eeffffffffffffffffffffffff0100000001000000), ObjectRef(66e25bed16be8927ffffffffffffffffffffffff0100000001000000), ObjectRef(3e329db255e4f378ffffffffffffffffffffffff0100000001000000), ObjectRef(7858fda60cd780cbffffffffffffffffffffffff0100000001000000), ObjectRef(219b636cf4ceded3ffffffffffffffffffffffff0100000001000000), ObjectRef(ad8a1e9d6a7a8fc0ffffffffffffffffffffffff0100000001000000), ObjectRef(7305f06dcdf9d199ffffffffffffffffffffffff0100000001000000), ObjectRef(5d624e85d2955067ffffffffffffffffffffffff0100000001000000), ObjectRef(e570be4c3f9ff30cffffffffffffffffffffffff0100000001000000), ObjectRef(4bdfec4316a9843bffffffffffffffffffffffff0100000001000000), ObjectRef(dd4376bd3c667794ffffffffffffffffffffffff0100000001000000), ObjectRef(8b2e7fa63270c5f3ffffffffffffffffffffffff0100000001000000), ObjectRef(10ef70752e9c9a2bffffffffffffffffffffffff0100000001000000), ObjectRef(d9f7d634e438f66affffffffffffffffffffffff0100000001000000), ObjectRef(5e8a55703f6cf7fcffffffffffffffffffffffff0100000001000000), ObjectRef(24e6ecf615bf9af6ffffffffffffffffffffffff0100000001000000), ObjectRef(6022ad0521ecd68bffffffffffffffffffffffff0100000001000000), ObjectRef(84f612c1e8cb7e05ffffffffffffffffffffffff0100000001000000), ObjectRef(74b1c99826ce417effffffffffffffffffffffff0100000001000000), ObjectRef(38af518b91205ea1ffffffffffffffffffffffff0100000001000000), ObjectRef(e10659248f47e9e1ffffffffffffffffffffffff0100000001000000), ObjectRef(5bb418dfefb33d96ffffffffffffffffffffffff0100000001000000), ObjectRef(413e394227112558ffffffffffffffffffffffff0100000001000000), ObjectRef(8716d87fa7c40b12ffffffffffffffffffffffff0100000001000000), ObjectRef(296989ea38e55dcbffffffffffffffffffffffff0100000001000000), ObjectRef(cd571e6fa427b066ffffffffffffffffffffffff0100000001000000), ObjectRef(fae322c22fa83708ffffffffffffffffffffffff0100000001000000), ObjectRef(d8469a65aac1c877ffffffffffffffffffffffff0100000001000000), ObjectRef(397901ec59db0c41ffffffffffffffffffffffff0100000001000000), ObjectRef(a210f19cbd6fae1effffffffffffffffffffffff0100000001000000), ObjectRef(ac3d4f3390a0b3e1ffffffffffffffffffffffff0100000001000000), ObjectRef(ac673cff7c9b7c67ffffffffffffffffffffffff0100000001000000), ObjectRef(dda6ece5dfabcba9ffffffffffffffffffffffff0100000001000000), ObjectRef(036f11540d213ba4ffffffffffffffffffffffff0100000001000000), ObjectRef(3e6733e8dc217a8effffffffffffffffffffffff0100000001000000), ObjectRef(4cbb8b1492057acbffffffffffffffffffffffff0100000001000000), ObjectRef(e09e48e68c070d65ffffffffffffffffffffffff0100000001000000), ObjectRef(36210fcbd28bbb8bffffffffffffffffffffffff0100000001000000), ObjectRef(30b1d7474ff665eaffffffffffffffffffffffff0100000001000000), ObjectRef(5480026c0420da09ffffffffffffffffffffffff0100000001000000), ObjectRef(5f45128bbd60bdf9ffffffffffffffffffffffff0100000001000000), ObjectRef(d703f7eaab1fa37effffffffffffffffffffffff0100000001000000), ObjectRef(3341badca63b1d3affffffffffffffffffffffff0100000001000000), ObjectRef(9fcfbf277e7aba4dffffffffffffffffffffffff0100000001000000), ObjectRef(197a365213f0493dffffffffffffffffffffffff0100000001000000), ObjectRef(c79e4724ee153547ffffffffffffffffffffffff0100000001000000), ObjectRef(942cdc11ddc17db0ffffffffffffffffffffffff0100000001000000), ObjectRef(b07b54872bd1d531ffffffffffffffffffffffff0100000001000000)]\n"
     ]
    }
   ],
   "source": [
    "ready,remaining = ray.wait(tab_ref,num_returns=len(tab_ref),timeout=1)\n",
    "print('-------------------------- ready ------------------------')\n",
    "print(ready)\n",
    "print('------------------------ remaining ----------------------')\n",
    "print(remaining)"
   ]
  },
  {
   "cell_type": "markdown",
   "id": "e85332e2-5e46-493b-a882-462813db0809",
   "metadata": {},
   "source": [
    "## 2. Aktorzy\n",
    "\n",
    "Cytując: *\"Actors extend the Ray API from functions (tasks) to classes. An actor is essentially a stateful worker (or a service). When a new actor is instantiated, a new worker is created, and methods of the actor are scheduled on that specific worker and can access and mutate the state of that worker.\"*"
   ]
  },
  {
   "cell_type": "markdown",
   "id": "22773cdb-3983-4fdd-b31e-c6736a04da6f",
   "metadata": {},
   "source": [
    "### 2.1 Aktor łączący teksty"
   ]
  },
  {
   "cell_type": "code",
   "execution_count": 59,
   "id": "d6182691-3d11-4f99-9e68-76fc85e97dfc",
   "metadata": {},
   "outputs": [
    {
     "name": "stdout",
     "output_type": "stream",
     "text": [
      "Lokomotywa\n",
      "Stoi na stacji lokomotywa\n",
      "Ciężka, ogromna i pot z niej spływa -\n",
      "Tłusta oliwa.\n"
     ]
    }
   ],
   "source": [
    "@ray.remote\n",
    "class Concatenator:\n",
    "    \n",
    "    def __init__(self,initial_text=''):\n",
    "        self.text = initial_text\n",
    "    \n",
    "    def append(self,text):\n",
    "        print(f'[append called] with param: {text}')\n",
    "        self.text += '\\n'\n",
    "        self.text += text\n",
    "\n",
    "    def get(self):\n",
    "        print(f'[get called]')\n",
    "        return self.text\n",
    "\n",
    "# wywołanie konstruktora\n",
    "conc_ref = Concatenator.remote('Lokomotywa') \n",
    "\n",
    "# wywołanie zdalnych metod obiektu\n",
    "conc_ref.append.remote('Stoi na stacji lokomotywa')\n",
    "conc_ref.append.remote('Ciężka, ogromna i pot z niej spływa -')\n",
    "conc_ref.append.remote('Tłusta oliwa.') \n",
    "\n",
    "text_ref = conc_ref.get.remote()\n",
    "print(ray.get(text_ref))\n",
    "\n",
    "# opcjonalnie można usunąć\n",
    "# del conc_ref"
   ]
  },
  {
   "cell_type": "markdown",
   "id": "3f7da6ac-3c5a-48be-9852-733f7ce28ed4",
   "metadata": {},
   "source": [
    "### 2.2 Aktor zliczający słowa"
   ]
  },
  {
   "cell_type": "markdown",
   "id": "01c790fb-b2a6-4d97-b30d-e6ebc5279445",
   "metadata": {},
   "source": [
    "Counter przechowuje informacje o liczbie wystąpień obiektów"
   ]
  },
  {
   "cell_type": "code",
   "execution_count": 60,
   "id": "4348e9bc-aa4d-4de4-b2f9-87b7bf7e602e",
   "metadata": {},
   "outputs": [
    {
     "data": {
      "text/plain": [
       "[(1, 4), (2, 2), ('a', 2)]"
      ]
     },
     "execution_count": 60,
     "metadata": {},
     "output_type": "execute_result"
    }
   ],
   "source": [
    "from collections import Counter\n",
    "counter = Counter()\n",
    "counter.update([1,1,2,1,1,3,2,'a','a','b'])\n",
    "counter.most_common(3)\n"
   ]
  },
  {
   "cell_type": "markdown",
   "id": "c6558d9f-9539-40f2-9c5e-027194581ed1",
   "metadata": {},
   "source": [
    "Wykorzystamy go do policznia wystąpień słów w tekscie"
   ]
  },
  {
   "cell_type": "code",
   "execution_count": 61,
   "id": "7f1c7dbf-99de-46f2-99b6-ee267f4b38c1",
   "metadata": {},
   "outputs": [
    {
     "data": {
      "text/plain": [
       "['Henryk',\n",
       " 'Sienkiewicz',\n",
       " 'W',\n",
       " 'pustyni',\n",
       " 'i',\n",
       " 'w',\n",
       " 'puszczy',\n",
       " 'ISBN',\n",
       " '978-83-288-2842-1',\n",
       " 'ROZDZIAŁ',\n",
       " 'I',\n",
       " '—',\n",
       " 'Wiesz,',\n",
       " 'Nel',\n",
       " '—',\n",
       " 'mówił',\n",
       " 'Staś',\n",
       " 'Tarkowski',\n",
       " 'do',\n",
       " 'swojej',\n",
       " 'przyjaciółki,',\n",
       " 'małej',\n",
       " 'Angielki',\n",
       " '—',\n",
       " 'wczoraj',\n",
       " 'przyszli',\n",
       " 'zabtie',\n",
       " '(policjanci)',\n",
       " 'i',\n",
       " 'aresztowali']"
      ]
     },
     "execution_count": 61,
     "metadata": {},
     "output_type": "execute_result"
    }
   ],
   "source": [
    "url = 'https://wolnelektury.pl/media/book/txt/w-pustyni-i-w-puszczy.txt'\n",
    "import requests\n",
    "text = requests.get(url).text\n",
    "words = text.split()\n",
    "words[:30]"
   ]
  },
  {
   "cell_type": "markdown",
   "id": "eefffddc-c1db-43f0-8de5-852c32a63b3a",
   "metadata": {},
   "source": [
    "Poprawimy wydzielanie symboli"
   ]
  },
  {
   "cell_type": "code",
   "execution_count": 62,
   "id": "11db7329-a223-413a-9bf6-0182ed4f4946",
   "metadata": {},
   "outputs": [
    {
     "data": {
      "text/plain": [
       "[('i', 3831),\n",
       " ('się', 2739),\n",
       " ('w', 2061),\n",
       " ('na', 1867),\n",
       " ('nie', 1776),\n",
       " ('z', 1705),\n",
       " ('że', 1391),\n",
       " ('do', 1185),\n",
       " ('a', 820),\n",
       " ('to', 757)]"
      ]
     },
     "execution_count": 62,
     "metadata": {},
     "output_type": "execute_result"
    }
   ],
   "source": [
    "from bs4 import BeautifulSoup\n",
    "import re\n",
    "import requests\n",
    "\n",
    "def tokenize(text): \n",
    "    text = BeautifulSoup(text, features=\"html.parser\").get_text(' ')\n",
    "    text = re.sub(r\"[#\\\",!?;-<>/\\\\*\\\\&-]\", \" \", text) #znaki\n",
    "    text = re.sub('\\[[^\\]]*\\]',' ',text) #\n",
    "    text = re.sub(r\"[:\\.\\+\\=()–©°′″•↑—]\", \" \", text) #reszta znaków\n",
    "    text = re.sub(r\"\\d+\\.?\\d*\", \" \", text) #liczby\n",
    "    words = text.split()\n",
    "    return words\n",
    "\n",
    "\n",
    "\n",
    "from collections import Counter\n",
    "word_freq = Counter()\n",
    "\n",
    "url = 'https://wolnelektury.pl/media/book/txt/w-pustyni-i-w-puszczy.txt'\n",
    "\n",
    "text = requests.get(url).text\n",
    "\n",
    "words = tokenize(text)\n",
    "word_freq.update(words)\n",
    "top_words=word_freq.most_common(10)\n",
    "top_words"
   ]
  },
  {
   "cell_type": "code",
   "execution_count": 63,
   "id": "7b2b8e09-ef09-423c-a6ed-533ab4da9c22",
   "metadata": {},
   "outputs": [
    {
     "data": {
      "text/plain": [
       "[('Publikacja', 1),\n",
       " ('zrealizowana', 1),\n",
       " ('Reprodukcja', 1),\n",
       " ('cyfrowa', 1),\n",
       " ('Bibliotekę', 1),\n",
       " ('Narodową', 1),\n",
       " ('egzemplarza', 1),\n",
       " ('pochodzącego', 1),\n",
       " ('zbiorów', 1),\n",
       " ('BN', 1),\n",
       " ('Opracowanie', 1),\n",
       " ('redakcyjne', 1),\n",
       " ('Izabela', 1),\n",
       " ('Erdmann', 1),\n",
       " ('Tomasz', 1),\n",
       " ('Jodełka', 1),\n",
       " ('Burzecki', 1),\n",
       " ('Sekuła', 1),\n",
       " ('Olga', 1)]"
      ]
     },
     "execution_count": 63,
     "metadata": {},
     "output_type": "execute_result"
    }
   ],
   "source": [
    "word_freq.most_common()[-20:-1]"
   ]
  },
  {
   "cell_type": "markdown",
   "id": "99d3a082-a2fc-411a-bcf5-1e51c739fb0f",
   "metadata": {},
   "source": [
    "Kolejne uaktualnienie"
   ]
  },
  {
   "cell_type": "code",
   "execution_count": 64,
   "id": "60e3f2cf-7d46-4284-ad24-227d4feba441",
   "metadata": {},
   "outputs": [
    {
     "data": {
      "text/plain": [
       "[('i', 4585),\n",
       " ('w', 3209),\n",
       " ('się', 2995),\n",
       " ('na', 2210),\n",
       " ('z', 2039),\n",
       " ('nie', 1815),\n",
       " ('że', 1406),\n",
       " ('do', 1390),\n",
       " ('a', 970),\n",
       " ('to', 827)]"
      ]
     },
     "execution_count": 64,
     "metadata": {},
     "output_type": "execute_result"
    }
   ],
   "source": [
    "text = requests.get('https://pl.wikipedia.org/wiki/Polska').text\n",
    "\n",
    "words = tokenize(text)\n",
    "word_freq.update(words)\n",
    "top_words=word_freq.most_common(10)\n",
    "top_words"
   ]
  },
  {
   "cell_type": "markdown",
   "id": "770a2453-216b-4d45-ade3-17302d2dc3b7",
   "metadata": {},
   "source": [
    "**TODO 2.2.1** Napisz klasę (aktora) ```WordCountingActor``` z metodami:\n",
    "* konstruktorem - inicjalizuje atrybut typu ```Counter```\n",
    "* tokenize() - wykorzystaj gotową funkcję\n",
    "* add_text(self,text:str) - dzieli tekst na słowa i uaktualnia licznik\n",
    "* get_top_words(self,n: int) - zwraca n najczęsciej występujących słów"
   ]
  },
  {
   "cell_type": "code",
   "execution_count": 65,
   "id": "5dd35ded-1cc1-40ab-b22d-02f4b234b967",
   "metadata": {},
   "outputs": [],
   "source": [
    "from collections import Counter\n",
    "from bs4 import BeautifulSoup\n",
    "import re\n",
    "\n",
    "@ray.remote\n",
    "class WordCountingActor:\n",
    "    def __init__(self):\n",
    "        self.counter = Counter()\n",
    "        \n",
    "\n",
    "    def tokenize(self, text:str): \n",
    "       return tokenize(text)\n",
    "\n",
    "    def add_text(self, text:str):\n",
    "       words = self.tokenize(text)\n",
    "       self.counter.update(words)\n",
    "\n",
    "    def get_top_words(self,n: int):\n",
    "        return self.counter.most_common(n)"
   ]
  },
  {
   "cell_type": "markdown",
   "id": "4f3745f6-5a32-4634-ab47-b84989ef1562",
   "metadata": {},
   "source": [
    "**TODO 2.2.2** Utwórz aktora i dodawaj teksty pobrane ze stron internetowych. Możesz rozszerzyć przykładową listę. Po dodaniu teksty wypisz 10 najczęściej pojawiająych się słów."
   ]
  },
  {
   "cell_type": "code",
   "execution_count": 66,
   "id": "a7c2a632",
   "metadata": {},
   "outputs": [],
   "source": [
    "urls = ['https://pl.wikipedia.org/wiki/Akademia_G%C3%B3rniczo-Hutnicza_im._Stanis%C5%82awa_Staszica_w_Krakowie',\n",
    "        'https://pl.wikipedia.org/wiki/Polska',\n",
    "        'https://pl.wikipedia.org/wiki/Krak%C3%B3w',\n",
    "        'https://www.agh.edu.pl/']\n"
   ]
  },
  {
   "cell_type": "code",
   "execution_count": 67,
   "id": "7426db33",
   "metadata": {},
   "outputs": [],
   "source": [
    "wca_ref = WordCountingActor.remote()\n",
    "for url in urls:\n",
    "    text = requests.get(url).text\n",
    "    wca_ref.add_text.remote(text)\n",
    "\n",
    "top_words = wca_ref.get_top_words.remote(10)"
   ]
  },
  {
   "cell_type": "code",
   "execution_count": 68,
   "id": "5fe1b8ac",
   "metadata": {},
   "outputs": [
    {
     "data": {
      "text/plain": [
       "[('w', 2162),\n",
       " ('i', 1418),\n",
       " ('z', 714),\n",
       " ('na', 622),\n",
       " ('się', 451),\n",
       " ('W', 390),\n",
       " ('do', 388),\n",
       " ('r', 370),\n",
       " ('Polski', 273),\n",
       " ('Kraków', 270)]"
      ]
     },
     "execution_count": 68,
     "metadata": {},
     "output_type": "execute_result"
    }
   ],
   "source": [
    "ray.get(top_words)"
   ]
  },
  {
   "cell_type": "markdown",
   "id": "2d13737e-4be2-49b3-97d5-c8ec50224c8f",
   "metadata": {},
   "source": [
    "## 3. Obiekty (object)\n",
    "\n",
    "Cytując: *\"In Ray, tasks and actors create and compute on objects. We refer to these objects as remote objects because they can be stored anywhere in a Ray cluster, and we use object refs to refer to them. Remote objects are cached in Ray’s distributed shared-memory object store, and there is one object store per node in the cluster. In the cluster setting, a remote object can live on one or many nodes, independent of who holds the object ref(s).*\n",
    "\n",
    "*An object ref is essentially a pointer or a unique ID that can be used to refer to a remote object without seeing its value. If you’re familiar with futures, Ray object refs are conceptually similar.\"*\n",
    "\n",
    "Załadujemy obraz i utworzymy reprezentujący go obiekt"
   ]
  },
  {
   "cell_type": "code",
   "execution_count": 70,
   "id": "b2c382cf-4913-43b3-aa79-e51c59864624",
   "metadata": {},
   "outputs": [
    {
     "data": {
      "image/png": "[encoded data removed]",
      "text/plain": [
       "<Figure size 500x500 with 1 Axes>"
      ]
     },
     "metadata": {},
     "output_type": "display_data"
    }
   ],
   "source": [
    "from PIL import Image\n",
    "import requests\n",
    "from io import BytesIO\n",
    "import matplotlib.pyplot as plt\n",
    "import numpy as np\n",
    "\n",
    "plt.rcParams['figure.figsize'] = (5, 5)\n",
    "\n",
    "response = requests.get('https://images.pexels.com/photos/32277444/pexels-photo-32277444/free-photo-of-black-cat-on-geometric-steps-in-istanbul.jpeg?auto=compress&cs=tinysrgb&w=1260&h=750&dpr=2')\n",
    "img = Image.open(BytesIO(response.content))\n",
    "img = np.array(img)\n",
    "\n",
    "plt.imshow(img, cmap='gray')\n",
    "plt.show()"
   ]
  },
  {
   "cell_type": "code",
   "execution_count": 71,
   "id": "d543bd2b-a143-4d37-a3f4-785c5ba292d1",
   "metadata": {},
   "outputs": [],
   "source": [
    "img_ref = ray.put(img)"
   ]
  },
  {
   "cell_type": "code",
   "execution_count": 72,
   "id": "2fa5560b-1709-47d3-9429-b37a1558e47f",
   "metadata": {
    "scrolled": true
   },
   "outputs": [
    {
     "data": {
      "image/png": "[encoded data removed]",
      "text/plain": [
       "<Figure size 500x500 with 1 Axes>"
      ]
     },
     "metadata": {},
     "output_type": "display_data"
    }
   ],
   "source": [
    "img_copy = ray.get(img_ref)\n",
    "plt.imshow(img_copy,cmap='gray')\n",
    "plt.show()"
   ]
  },
  {
   "cell_type": "markdown",
   "id": "2c56f7d4-f165-49ef-b632-5a9dfb3c7105",
   "metadata": {},
   "source": [
    "## 4. Biblioteka  Ray Data i Dataset\n",
    "Cytując: *\"Ray Data is a scalable data processing library for ML workloads. It provides flexible and performant APIs for scaling Offline batch inference and Data preprocessing and ingest for ML training. Ray Data uses streaming execution to efficiently process large datasets.*\n",
    "\n",
    "Podstawową klasą jest ```Dataset```. Podobue, jak w przypadku Sparka możliwy jest:\n",
    "* odczyt danych z róznych źródeł\n",
    "* zapis w róznych formatach\n",
    "* podstawowe transformacje (w tym konwersja do Pandas)\n",
    "* podział na wsady (batch)\n",
    "* automatyczne partycjonowanie i rozkładanie pomiędzy węzły\n",
    "* iteracja po pojedynczych danych lub z podziałem na wsady w formatach zgodnych z Tensorflow i Torch\n"
   ]
  },
  {
   "cell_type": "code",
   "execution_count": 73,
   "id": "8ba12f0e-2b88-4180-a121-9e165429454d",
   "metadata": {},
   "outputs": [],
   "source": [
    "ds_train = ray.data.read_csv(\"twitter_training.csv\")\n",
    "ds_test = ray.data.read_csv(\"twitter_validation.csv\")"
   ]
  },
  {
   "cell_type": "code",
   "execution_count": 74,
   "id": "b037563b-35fd-4a9e-a275-36a603bc106a",
   "metadata": {},
   "outputs": [
    {
     "name": "stderr",
     "output_type": "stream",
     "text": [
      "2025-05-29 13:56:11,991\tINFO logging.py:290 -- Registered dataset logger for dataset dataset_0_0\n",
      "2025-05-29 13:56:12,009\tINFO streaming_executor.py:117 -- Starting execution of Dataset dataset_0_0. Full logs are in /tmp/ray/session_2025-05-29_13-51-53_197612_14/logs/ray-data\n",
      "2025-05-29 13:56:12,009\tINFO streaming_executor.py:118 -- Execution plan of Dataset dataset_0_0: InputDataBuffer[Input] -> TaskPoolMapOperator[ReadCSV]\n"
     ]
    },
    {
     "data": {
      "application/vnd.jupyter.widget-view+json": {
       "model_id": "57464ee1d4784794852b968f334094c2",
       "version_major": 2,
       "version_minor": 0
      },
      "text/plain": [
       "Running 0: 0.00 row [00:00, ? row/s]"
      ]
     },
     "metadata": {},
     "output_type": "display_data"
    },
    {
     "data": {
      "application/vnd.jupyter.widget-view+json": {
       "model_id": "cb29c5f091ea4b3c952d1848b4e52d4d",
       "version_major": 2,
       "version_minor": 0
      },
      "text/plain": [
       "- ReadCSV->SplitBlocks(24) 1: 0.00 row [00:00, ? row/s]"
      ]
     },
     "metadata": {},
     "output_type": "display_data"
    },
    {
     "name": "stderr",
     "output_type": "stream",
     "text": [
      "2025-05-29 13:56:12,335\tINFO streaming_executor.py:220 -- ✔️  Dataset dataset_0_0 execution finished in 0.33 seconds\n"
     ]
    },
    {
     "data": {
      "application/vnd.jupyter.widget-view+json": {
       "model_id": "b198bc21549a4f16bff5acea05068ea1",
       "version_major": 2,
       "version_minor": 0
      },
      "text/plain": [
       "Dataset(\n",
       "   num_rows=74682,\n",
       "   schema={\n",
       "      TweetId: int64,\n",
       "      Entity: string,\n",
       "      Sentiment: string,\n",
       "      TweetContent: string\n",
       "   }\n",
       ")"
      ]
     },
     "execution_count": 74,
     "metadata": {},
     "output_type": "execute_result"
    }
   ],
   "source": [
    "ds_train"
   ]
  },
  {
   "cell_type": "code",
   "execution_count": 75,
   "id": "2c6a713b-5b35-4227-9314-2acc89945155",
   "metadata": {},
   "outputs": [
    {
     "name": "stderr",
     "output_type": "stream",
     "text": [
      "2025-05-29 13:56:14,188\tINFO dataset.py:3027 -- Tip: Use `take_batch()` instead of `take() / show()` to return records in pandas or numpy batch format.\n",
      "2025-05-29 13:56:14,194\tINFO logging.py:290 -- Registered dataset logger for dataset dataset_2_0\n",
      "2025-05-29 13:56:14,200\tINFO streaming_executor.py:117 -- Starting execution of Dataset dataset_2_0. Full logs are in /tmp/ray/session_2025-05-29_13-51-53_197612_14/logs/ray-data\n",
      "2025-05-29 13:56:14,201\tINFO streaming_executor.py:118 -- Execution plan of Dataset dataset_2_0: InputDataBuffer[Input] -> TaskPoolMapOperator[ReadCSV] -> LimitOperator[limit=5]\n"
     ]
    },
    {
     "data": {
      "application/vnd.jupyter.widget-view+json": {
       "model_id": "acc47b6f38aa42b49da5506943c4ad54",
       "version_major": 2,
       "version_minor": 0
      },
      "text/plain": [
       "Running 0: 0.00 row [00:00, ? row/s]"
      ]
     },
     "metadata": {},
     "output_type": "display_data"
    },
    {
     "data": {
      "application/vnd.jupyter.widget-view+json": {
       "model_id": "9d0f7f04d7fd4e9086ba54277207f379",
       "version_major": 2,
       "version_minor": 0
      },
      "text/plain": [
       "- ReadCSV->SplitBlocks(24) 1: 0.00 row [00:00, ? row/s]"
      ]
     },
     "metadata": {},
     "output_type": "display_data"
    },
    {
     "data": {
      "application/vnd.jupyter.widget-view+json": {
       "model_id": "15e0ee5ecd21432eaf316aa13d1dac30",
       "version_major": 2,
       "version_minor": 0
      },
      "text/plain": [
       "- limit=5 2: 0.00 row [00:00, ? row/s]"
      ]
     },
     "metadata": {},
     "output_type": "display_data"
    },
    {
     "name": "stderr",
     "output_type": "stream",
     "text": [
      "2025-05-29 13:56:14,502\tINFO streaming_executor.py:220 -- ✔️  Dataset dataset_2_0 execution finished in 0.30 seconds\n"
     ]
    },
    {
     "name": "stdout",
     "output_type": "stream",
     "text": [
      "{'TweetId': 2401, 'Entity': 'Borderlands', 'Sentiment': 'Positive', 'TweetContent': 'im getting on borderlands and i will murder you all ,'}\n",
      "{'TweetId': 2401, 'Entity': 'Borderlands', 'Sentiment': 'Positive', 'TweetContent': 'I am coming to the borders and I will kill you all,'}\n",
      "{'TweetId': 2401, 'Entity': 'Borderlands', 'Sentiment': 'Positive', 'TweetContent': 'im getting on borderlands and i will kill you all,'}\n",
      "{'TweetId': 2401, 'Entity': 'Borderlands', 'Sentiment': 'Positive', 'TweetContent': 'im coming on borderlands and i will murder you all,'}\n",
      "{'TweetId': 2401, 'Entity': 'Borderlands', 'Sentiment': 'Positive', 'TweetContent': 'im getting on borderlands 2 and i will murder you me all,'}\n"
     ]
    }
   ],
   "source": [
    "ds_train.show(5)"
   ]
  },
  {
   "cell_type": "code",
   "execution_count": 76,
   "id": "ae7f476e-a61c-4d05-b93e-020b3aeaa1db",
   "metadata": {},
   "outputs": [
    {
     "data": {
      "text/plain": [
       "'Operator 1 ReadCSV->SplitBlocks(24): 1 tasks executed, 4 blocks produced in 0.04s\\n* Remote wall time: 158.67us min, 38.59ms max, 9.84ms mean, 39.35ms total\\n* Remote cpu time: 157.79us min, 35.07ms max, 9.05ms mean, 36.21ms total\\n* UDF time: 0us min, 0us max, 0.0us mean, 0us total\\n* Peak heap memory usage (MiB): 134.03 min, 134.03 max, 134 mean\\n* Output num rows per block: 3112 min, 3112 max, 3112 mean, 12448 total\\n* Output size bytes per block: 429197 min, 486850 max, 462329 mean, 1849318 total\\n* Output rows per task: 12448 min, 12448 max, 12448 mean, 1 tasks used\\n* Tasks per node: 1 min, 1 max, 1 mean; 1 nodes used\\n* Operator throughput:\\n\\t* Ray Data throughput: 290554.016114541 rows/s\\n\\t* Estimated single node throughput: 316314.4166337072 rows/s\\n\\nOperator 2 limit=5: 1 tasks executed, 1 blocks produced in 0.04s\\n* Remote wall time: 38.59ms min, 38.59ms max, 38.59ms mean, 38.59ms total\\n* Remote cpu time: 35.07ms min, 35.07ms max, 35.07ms mean, 35.07ms total\\n* UDF time: 0us min, 0us max, 0.0us mean, 0us total\\n* Peak heap memory usage (MiB): 134.03 min, 134.03 max, 134 mean\\n* Output num rows per block: 5 min, 5 max, 5 mean, 5 total\\n* Output size bytes per block: 457 min, 457 max, 457 mean, 457 total\\n* Output rows per task: 5 min, 5 max, 5 mean, 1 tasks used\\n* Tasks per node: 1 min, 1 max, 1 mean; 1 nodes used\\n* Operator throughput:\\n\\t* Ray Data throughput: 129.56402896247866 rows/s\\n\\t* Estimated single node throughput: 129.56402896247866 rows/s\\n\\nDataset iterator time breakdown:\\n    * Total time in Ray Data iterator initialization code: 307.66ms\\n    * Total time user thread is blocked by Ray Data iter_batches: 5.24ms\\n    * Total execution time for user thread: 1.94ms\\n* Batch iteration time breakdown (summed across prefetch threads):\\n    * In ray.get(): 304.42us min, 304.42us max, 304.42us avg, 304.42us total\\n    * In batch creation: 1.83us min, 1.83us max, 1.83us avg, 1.83us total\\n    * In batch formatting: 44.87us min, 44.87us max, 44.87us avg, 44.87us total\\n\\nDataset throughput:\\n\\t* Ray Data throughput: 116.70710801515945 rows/s\\n\\t* Estimated single node throughput: 64.14844915949054 rows/s\\n'"
      ]
     },
     "execution_count": 76,
     "metadata": {},
     "output_type": "execute_result"
    }
   ],
   "source": [
    "ds_train.stats()"
   ]
  },
  {
   "cell_type": "markdown",
   "id": "2b6ba726-865f-4f6b-aa59-2df17cbee8a2",
   "metadata": {},
   "source": [
    "### 4.1 Podstawowe transformacje"
   ]
  },
  {
   "cell_type": "markdown",
   "id": "fb44cb8a-941e-45ee-9c28-c8b9a8d47e66",
   "metadata": {},
   "source": [
    "#### to_pandas"
   ]
  },
  {
   "cell_type": "code",
   "execution_count": 77,
   "id": "666f620b-9657-481a-b2bb-af9f6f4d671b",
   "metadata": {},
   "outputs": [
    {
     "name": "stderr",
     "output_type": "stream",
     "text": [
      "2025-05-29 13:56:19,794\tINFO logging.py:290 -- Registered dataset logger for dataset dataset_0_1\n",
      "2025-05-29 13:56:19,802\tINFO streaming_executor.py:117 -- Starting execution of Dataset dataset_0_1. Full logs are in /tmp/ray/session_2025-05-29_13-51-53_197612_14/logs/ray-data\n",
      "2025-05-29 13:56:19,803\tINFO streaming_executor.py:118 -- Execution plan of Dataset dataset_0_1: InputDataBuffer[Input] -> TaskPoolMapOperator[ReadCSV]\n"
     ]
    },
    {
     "data": {
      "application/vnd.jupyter.widget-view+json": {
       "model_id": "b37ccfc0ae68464d9129114942452de8",
       "version_major": 2,
       "version_minor": 0
      },
      "text/plain": [
       "Running 0: 0.00 row [00:00, ? row/s]"
      ]
     },
     "metadata": {},
     "output_type": "display_data"
    },
    {
     "data": {
      "application/vnd.jupyter.widget-view+json": {
       "model_id": "c1c93ac489844b4d9635a9bd5bdd45b8",
       "version_major": 2,
       "version_minor": 0
      },
      "text/plain": [
       "- ReadCSV->SplitBlocks(24) 1: 0.00 row [00:00, ? row/s]"
      ]
     },
     "metadata": {},
     "output_type": "display_data"
    },
    {
     "name": "stderr",
     "output_type": "stream",
     "text": [
      "2025-05-29 13:56:19,940\tINFO streaming_executor.py:220 -- ✔️  Dataset dataset_0_1 execution finished in 0.14 seconds\n",
      "2025-05-29 13:56:19,972\tINFO logging.py:290 -- Registered dataset logger for dataset dataset_1_0\n",
      "2025-05-29 13:56:19,975\tINFO streaming_executor.py:117 -- Starting execution of Dataset dataset_1_0. Full logs are in /tmp/ray/session_2025-05-29_13-51-53_197612_14/logs/ray-data\n",
      "2025-05-29 13:56:19,976\tINFO streaming_executor.py:118 -- Execution plan of Dataset dataset_1_0: InputDataBuffer[Input] -> TaskPoolMapOperator[ReadCSV]\n"
     ]
    },
    {
     "data": {
      "application/vnd.jupyter.widget-view+json": {
       "model_id": "2bfb25bc10dd4dd697b43bfc781c7597",
       "version_major": 2,
       "version_minor": 0
      },
      "text/plain": [
       "Running 0: 0.00 row [00:00, ? row/s]"
      ]
     },
     "metadata": {},
     "output_type": "display_data"
    },
    {
     "data": {
      "application/vnd.jupyter.widget-view+json": {
       "model_id": "61ab1727e9264ae1b75ad03cefac5722",
       "version_major": 2,
       "version_minor": 0
      },
      "text/plain": [
       "- ReadCSV->SplitBlocks(24) 1: 0.00 row [00:00, ? row/s]"
      ]
     },
     "metadata": {},
     "output_type": "display_data"
    },
    {
     "name": "stderr",
     "output_type": "stream",
     "text": [
      "2025-05-29 13:56:20,032\tINFO streaming_executor.py:220 -- ✔️  Dataset dataset_1_0 execution finished in 0.06 seconds\n"
     ]
    },
    {
     "data": {
      "text/html": [
       "<div>\n",
       "<style scoped>\n",
       "    .dataframe tbody tr th:only-of-type {\n",
       "        vertical-align: middle;\n",
       "    }\n",
       "\n",
       "    .dataframe tbody tr th {\n",
       "        vertical-align: top;\n",
       "    }\n",
       "\n",
       "    .dataframe thead th {\n",
       "        text-align: right;\n",
       "    }\n",
       "</style>\n",
       "<table border=\"1\" class=\"dataframe\">\n",
       "  <thead>\n",
       "    <tr style=\"text-align: right;\">\n",
       "      <th></th>\n",
       "      <th>TweetId</th>\n",
       "      <th>Entity</th>\n",
       "      <th>Sentiment</th>\n",
       "      <th>TweetContent</th>\n",
       "    </tr>\n",
       "  </thead>\n",
       "  <tbody>\n",
       "    <tr>\n",
       "      <th>0</th>\n",
       "      <td>2401</td>\n",
       "      <td>Borderlands</td>\n",
       "      <td>Positive</td>\n",
       "      <td>im getting on borderlands and i will murder yo...</td>\n",
       "    </tr>\n",
       "    <tr>\n",
       "      <th>1</th>\n",
       "      <td>2401</td>\n",
       "      <td>Borderlands</td>\n",
       "      <td>Positive</td>\n",
       "      <td>I am coming to the borders and I will kill you...</td>\n",
       "    </tr>\n",
       "    <tr>\n",
       "      <th>2</th>\n",
       "      <td>2401</td>\n",
       "      <td>Borderlands</td>\n",
       "      <td>Positive</td>\n",
       "      <td>im getting on borderlands and i will kill you ...</td>\n",
       "    </tr>\n",
       "    <tr>\n",
       "      <th>3</th>\n",
       "      <td>2401</td>\n",
       "      <td>Borderlands</td>\n",
       "      <td>Positive</td>\n",
       "      <td>im coming on borderlands and i will murder you...</td>\n",
       "    </tr>\n",
       "    <tr>\n",
       "      <th>4</th>\n",
       "      <td>2401</td>\n",
       "      <td>Borderlands</td>\n",
       "      <td>Positive</td>\n",
       "      <td>im getting on borderlands 2 and i will murder ...</td>\n",
       "    </tr>\n",
       "    <tr>\n",
       "      <th>5</th>\n",
       "      <td>2401</td>\n",
       "      <td>Borderlands</td>\n",
       "      <td>Positive</td>\n",
       "      <td>im getting into borderlands and i can murder y...</td>\n",
       "    </tr>\n",
       "    <tr>\n",
       "      <th>6</th>\n",
       "      <td>2402</td>\n",
       "      <td>Borderlands</td>\n",
       "      <td>Positive</td>\n",
       "      <td>So I spent a few hours making something for fu...</td>\n",
       "    </tr>\n",
       "    <tr>\n",
       "      <th>7</th>\n",
       "      <td>2402</td>\n",
       "      <td>Borderlands</td>\n",
       "      <td>Positive</td>\n",
       "      <td>So I spent a couple of hours doing something f...</td>\n",
       "    </tr>\n",
       "    <tr>\n",
       "      <th>8</th>\n",
       "      <td>2402</td>\n",
       "      <td>Borderlands</td>\n",
       "      <td>Positive</td>\n",
       "      <td>So I spent a few hours doing something for fun...</td>\n",
       "    </tr>\n",
       "    <tr>\n",
       "      <th>9</th>\n",
       "      <td>2402</td>\n",
       "      <td>Borderlands</td>\n",
       "      <td>Positive</td>\n",
       "      <td>So I spent a few hours making something for fu...</td>\n",
       "    </tr>\n",
       "  </tbody>\n",
       "</table>\n",
       "</div>"
      ],
      "text/plain": [
       "   TweetId       Entity Sentiment  \\\n",
       "0     2401  Borderlands  Positive   \n",
       "1     2401  Borderlands  Positive   \n",
       "2     2401  Borderlands  Positive   \n",
       "3     2401  Borderlands  Positive   \n",
       "4     2401  Borderlands  Positive   \n",
       "5     2401  Borderlands  Positive   \n",
       "6     2402  Borderlands  Positive   \n",
       "7     2402  Borderlands  Positive   \n",
       "8     2402  Borderlands  Positive   \n",
       "9     2402  Borderlands  Positive   \n",
       "\n",
       "                                        TweetContent  \n",
       "0  im getting on borderlands and i will murder yo...  \n",
       "1  I am coming to the borders and I will kill you...  \n",
       "2  im getting on borderlands and i will kill you ...  \n",
       "3  im coming on borderlands and i will murder you...  \n",
       "4  im getting on borderlands 2 and i will murder ...  \n",
       "5  im getting into borderlands and i can murder y...  \n",
       "6  So I spent a few hours making something for fu...  \n",
       "7  So I spent a couple of hours doing something f...  \n",
       "8  So I spent a few hours doing something for fun...  \n",
       "9  So I spent a few hours making something for fu...  "
      ]
     },
     "execution_count": 77,
     "metadata": {},
     "output_type": "execute_result"
    }
   ],
   "source": [
    "df_train = ds_train.to_pandas()\n",
    "df_test = ds_test.to_pandas()\n",
    "df_train.head(10)"
   ]
  },
  {
   "cell_type": "markdown",
   "id": "71a4fddd-676b-42a5-a920-b4f739baadd3",
   "metadata": {},
   "source": [
    "#### select_columns"
   ]
  },
  {
   "cell_type": "code",
   "execution_count": 78,
   "id": "042d0df8-fafc-48ad-9448-7b8ba1c2a401",
   "metadata": {},
   "outputs": [
    {
     "name": "stderr",
     "output_type": "stream",
     "text": [
      "2025-05-29 13:56:22,614\tINFO logging.py:290 -- Registered dataset logger for dataset dataset_4_0\n",
      "2025-05-29 13:56:22,631\tINFO streaming_executor.py:117 -- Starting execution of Dataset dataset_4_0. Full logs are in /tmp/ray/session_2025-05-29_13-51-53_197612_14/logs/ray-data\n",
      "2025-05-29 13:56:22,633\tINFO streaming_executor.py:118 -- Execution plan of Dataset dataset_4_0: InputDataBuffer[Input] -> TaskPoolMapOperator[ReadCSV] -> TaskPoolMapOperator[Project] -> LimitOperator[limit=5]\n"
     ]
    },
    {
     "data": {
      "application/vnd.jupyter.widget-view+json": {
       "model_id": "9d0ea38bd1a24b7795cbe322e9d2e9d6",
       "version_major": 2,
       "version_minor": 0
      },
      "text/plain": [
       "Running 0: 0.00 row [00:00, ? row/s]"
      ]
     },
     "metadata": {},
     "output_type": "display_data"
    },
    {
     "data": {
      "application/vnd.jupyter.widget-view+json": {
       "model_id": "d8b5d12b881e4963be6a3833b8843d7d",
       "version_major": 2,
       "version_minor": 0
      },
      "text/plain": [
       "- ReadCSV->SplitBlocks(24) 1: 0.00 row [00:00, ? row/s]"
      ]
     },
     "metadata": {},
     "output_type": "display_data"
    },
    {
     "data": {
      "application/vnd.jupyter.widget-view+json": {
       "model_id": "0e4e25fcecb149c2987bb2c1be1210e1",
       "version_major": 2,
       "version_minor": 0
      },
      "text/plain": [
       "- Project 2: 0.00 row [00:00, ? row/s]"
      ]
     },
     "metadata": {},
     "output_type": "display_data"
    },
    {
     "data": {
      "application/vnd.jupyter.widget-view+json": {
       "model_id": "a879aad3154140e2b26335c888ac8c8d",
       "version_major": 2,
       "version_minor": 0
      },
      "text/plain": [
       "- limit=5 3: 0.00 row [00:00, ? row/s]"
      ]
     },
     "metadata": {},
     "output_type": "display_data"
    },
    {
     "name": "stderr",
     "output_type": "stream",
     "text": [
      "2025-05-29 13:56:22,931\tINFO streaming_executor.py:220 -- ✔️  Dataset dataset_4_0 execution finished in 0.30 seconds\n"
     ]
    },
    {
     "name": "stdout",
     "output_type": "stream",
     "text": [
      "{'Entity': 'Borderlands', 'Sentiment': 'Positive'}\n",
      "{'Entity': 'Borderlands', 'Sentiment': 'Positive'}\n",
      "{'Entity': 'Borderlands', 'Sentiment': 'Positive'}\n",
      "{'Entity': 'Borderlands', 'Sentiment': 'Positive'}\n",
      "{'Entity': 'Borderlands', 'Sentiment': 'Positive'}\n"
     ]
    }
   ],
   "source": [
    "ds2 = ds_train.select_columns(['Entity','Sentiment']).show(5)"
   ]
  },
  {
   "cell_type": "markdown",
   "id": "5b2cd49a-3ebd-4171-8309-ded4cc3410a4",
   "metadata": {},
   "source": [
    "#### groupby"
   ]
  },
  {
   "cell_type": "code",
   "execution_count": 79,
   "id": "31bef6a5-8eda-4618-b0de-e775d67d01fe",
   "metadata": {},
   "outputs": [],
   "source": [
    "ds2 = ds_train.select_columns(['Entity','Sentiment']).groupby(['Entity','Sentiment']).count()"
   ]
  },
  {
   "cell_type": "code",
   "execution_count": 80,
   "id": "f70c590b-9b61-49f0-8535-d95b29905e12",
   "metadata": {},
   "outputs": [
    {
     "name": "stderr",
     "output_type": "stream",
     "text": [
      "2025-05-29 13:56:25,743\tINFO logging.py:290 -- Registered dataset logger for dataset dataset_7_0\n",
      "2025-05-29 13:56:25,755\tINFO streaming_executor.py:117 -- Starting execution of Dataset dataset_7_0. Full logs are in /tmp/ray/session_2025-05-29_13-51-53_197612_14/logs/ray-data\n",
      "2025-05-29 13:56:25,757\tINFO streaming_executor.py:118 -- Execution plan of Dataset dataset_7_0: InputDataBuffer[Input] -> TaskPoolMapOperator[ReadCSV] -> TaskPoolMapOperator[Project] -> AllToAllOperator[Aggregate]\n"
     ]
    },
    {
     "data": {
      "application/vnd.jupyter.widget-view+json": {
       "model_id": "41a14dae139b453d86214d0b28e8588b",
       "version_major": 2,
       "version_minor": 0
      },
      "text/plain": [
       "Running 0: 0.00 row [00:00, ? row/s]"
      ]
     },
     "metadata": {},
     "output_type": "display_data"
    },
    {
     "data": {
      "application/vnd.jupyter.widget-view+json": {
       "model_id": "f7ea0f7d1bc54673b10e96454af87002",
       "version_major": 2,
       "version_minor": 0
      },
      "text/plain": [
       "- ReadCSV->SplitBlocks(24) 1: 0.00 row [00:00, ? row/s]"
      ]
     },
     "metadata": {},
     "output_type": "display_data"
    },
    {
     "data": {
      "application/vnd.jupyter.widget-view+json": {
       "model_id": "20decde90bdf4aa7a4d08fcebf0128b2",
       "version_major": 2,
       "version_minor": 0
      },
      "text/plain": [
       "- Project 2: 0.00 row [00:00, ? row/s]"
      ]
     },
     "metadata": {},
     "output_type": "display_data"
    },
    {
     "data": {
      "application/vnd.jupyter.widget-view+json": {
       "model_id": "c951dcee82b347768f605474e6f56b54",
       "version_major": 2,
       "version_minor": 0
      },
      "text/plain": [
       "- Aggregate 3: 0.00 row [00:00, ? row/s]"
      ]
     },
     "metadata": {},
     "output_type": "display_data"
    },
    {
     "data": {
      "application/vnd.jupyter.widget-view+json": {
       "model_id": "a1176436bb8c4791b03a73d1c1c18a4a",
       "version_major": 2,
       "version_minor": 0
      },
      "text/plain": [
       "Sort Sample 4:   0%|                                  | 0.00/1.00 [00:00<?, ? row/s]"
      ]
     },
     "metadata": {},
     "output_type": "display_data"
    },
    {
     "data": {
      "application/vnd.jupyter.widget-view+json": {
       "model_id": "a80b2b3653a649bf92c609570b1d9aec",
       "version_major": 2,
       "version_minor": 0
      },
      "text/plain": [
       "Shuffle Map 5:   0%|                                  | 0.00/1.00 [00:00<?, ? row/s]"
      ]
     },
     "metadata": {},
     "output_type": "display_data"
    },
    {
     "data": {
      "application/vnd.jupyter.widget-view+json": {
       "model_id": "064cfe81c6114653bdb9c38e7d6f5563",
       "version_major": 2,
       "version_minor": 0
      },
      "text/plain": [
       "Shuffle Reduce 6:   0%|                               | 0.00/1.00 [00:00<?, ? row/s]"
      ]
     },
     "metadata": {},
     "output_type": "display_data"
    },
    {
     "name": "stderr",
     "output_type": "stream",
     "text": [
      "2025-05-29 13:56:26,544\tINFO streaming_executor.py:220 -- ✔️  Dataset dataset_7_0 execution finished in 0.79 seconds\n"
     ]
    },
    {
     "data": {
      "text/html": [
       "<div>\n",
       "<style scoped>\n",
       "    .dataframe tbody tr th:only-of-type {\n",
       "        vertical-align: middle;\n",
       "    }\n",
       "\n",
       "    .dataframe tbody tr th {\n",
       "        vertical-align: top;\n",
       "    }\n",
       "\n",
       "    .dataframe thead th {\n",
       "        text-align: right;\n",
       "    }\n",
       "</style>\n",
       "<table border=\"1\" class=\"dataframe\">\n",
       "  <thead>\n",
       "    <tr style=\"text-align: right;\">\n",
       "      <th></th>\n",
       "      <th>Entity</th>\n",
       "      <th>Sentiment</th>\n",
       "      <th>count()</th>\n",
       "    </tr>\n",
       "  </thead>\n",
       "  <tbody>\n",
       "    <tr>\n",
       "      <th>0</th>\n",
       "      <td>Amazon</td>\n",
       "      <td>Irrelevant</td>\n",
       "      <td>192</td>\n",
       "    </tr>\n",
       "    <tr>\n",
       "      <th>1</th>\n",
       "      <td>Amazon</td>\n",
       "      <td>Negative</td>\n",
       "      <td>576</td>\n",
       "    </tr>\n",
       "    <tr>\n",
       "      <th>2</th>\n",
       "      <td>Amazon</td>\n",
       "      <td>Neutral</td>\n",
       "      <td>1236</td>\n",
       "    </tr>\n",
       "    <tr>\n",
       "      <th>3</th>\n",
       "      <td>Amazon</td>\n",
       "      <td>Positive</td>\n",
       "      <td>312</td>\n",
       "    </tr>\n",
       "    <tr>\n",
       "      <th>4</th>\n",
       "      <td>ApexLegends</td>\n",
       "      <td>Irrelevant</td>\n",
       "      <td>192</td>\n",
       "    </tr>\n",
       "    <tr>\n",
       "      <th>...</th>\n",
       "      <td>...</td>\n",
       "      <td>...</td>\n",
       "      <td>...</td>\n",
       "    </tr>\n",
       "    <tr>\n",
       "      <th>123</th>\n",
       "      <td>Xbox(Xseries)</td>\n",
       "      <td>Positive</td>\n",
       "      <td>792</td>\n",
       "    </tr>\n",
       "    <tr>\n",
       "      <th>124</th>\n",
       "      <td>johnson&amp;johnson</td>\n",
       "      <td>Irrelevant</td>\n",
       "      <td>198</td>\n",
       "    </tr>\n",
       "    <tr>\n",
       "      <th>125</th>\n",
       "      <td>johnson&amp;johnson</td>\n",
       "      <td>Negative</td>\n",
       "      <td>846</td>\n",
       "    </tr>\n",
       "    <tr>\n",
       "      <th>126</th>\n",
       "      <td>johnson&amp;johnson</td>\n",
       "      <td>Neutral</td>\n",
       "      <td>1014</td>\n",
       "    </tr>\n",
       "    <tr>\n",
       "      <th>127</th>\n",
       "      <td>johnson&amp;johnson</td>\n",
       "      <td>Positive</td>\n",
       "      <td>270</td>\n",
       "    </tr>\n",
       "  </tbody>\n",
       "</table>\n",
       "<p>128 rows × 3 columns</p>\n",
       "</div>"
      ],
      "text/plain": [
       "              Entity   Sentiment  count()\n",
       "0             Amazon  Irrelevant      192\n",
       "1             Amazon    Negative      576\n",
       "2             Amazon     Neutral     1236\n",
       "3             Amazon    Positive      312\n",
       "4        ApexLegends  Irrelevant      192\n",
       "..               ...         ...      ...\n",
       "123    Xbox(Xseries)    Positive      792\n",
       "124  johnson&johnson  Irrelevant      198\n",
       "125  johnson&johnson    Negative      846\n",
       "126  johnson&johnson     Neutral     1014\n",
       "127  johnson&johnson    Positive      270\n",
       "\n",
       "[128 rows x 3 columns]"
      ]
     },
     "execution_count": 80,
     "metadata": {},
     "output_type": "execute_result"
    }
   ],
   "source": [
    "ds2.to_pandas()"
   ]
  },
  {
   "cell_type": "markdown",
   "id": "9c0e1736-18f6-466f-8b81-86a9e18fdeef",
   "metadata": {},
   "source": [
    "#### filter"
   ]
  },
  {
   "cell_type": "code",
   "execution_count": 81,
   "id": "c67150c2-b963-406a-8101-000d8b4322d4",
   "metadata": {},
   "outputs": [
    {
     "name": "stderr",
     "output_type": "stream",
     "text": [
      "/usr/local/lib/python3.10/dist-packages/ray/data/dataset.py:1413: UserWarning: Use 'expr' instead of 'fn' when possible for performant filters.\n",
      "  warnings.warn(\n"
     ]
    }
   ],
   "source": [
    "ds2 = ds_train.filter(lambda row:row['Entity']=='Nvidia')"
   ]
  },
  {
   "cell_type": "code",
   "execution_count": 82,
   "id": "6cb5d867-07ff-48df-a093-91491ad5e4e0",
   "metadata": {},
   "outputs": [
    {
     "name": "stderr",
     "output_type": "stream",
     "text": [
      "2025-05-29 13:56:31,601\tINFO logging.py:290 -- Registered dataset logger for dataset dataset_9_0\n",
      "2025-05-29 13:56:31,608\tINFO streaming_executor.py:117 -- Starting execution of Dataset dataset_9_0. Full logs are in /tmp/ray/session_2025-05-29_13-51-53_197612_14/logs/ray-data\n",
      "2025-05-29 13:56:31,609\tINFO streaming_executor.py:118 -- Execution plan of Dataset dataset_9_0: InputDataBuffer[Input] -> TaskPoolMapOperator[ReadCSV] -> TaskPoolMapOperator[Filter(<lambda>)] -> LimitOperator[limit=5]\n"
     ]
    },
    {
     "data": {
      "application/vnd.jupyter.widget-view+json": {
       "model_id": "54eaa0ba6fa542c4b134273cb5fbfc0a",
       "version_major": 2,
       "version_minor": 0
      },
      "text/plain": [
       "Running 0: 0.00 row [00:00, ? row/s]"
      ]
     },
     "metadata": {},
     "output_type": "display_data"
    },
    {
     "data": {
      "application/vnd.jupyter.widget-view+json": {
       "model_id": "f44dd1ad461c4f2c8306f905295aced6",
       "version_major": 2,
       "version_minor": 0
      },
      "text/plain": [
       "- ReadCSV->SplitBlocks(24) 1: 0.00 row [00:00, ? row/s]"
      ]
     },
     "metadata": {},
     "output_type": "display_data"
    },
    {
     "data": {
      "application/vnd.jupyter.widget-view+json": {
       "model_id": "3c23d9b67c3c4ef297c97d80df001624",
       "version_major": 2,
       "version_minor": 0
      },
      "text/plain": [
       "- Filter(<lambda>) 2: 0.00 row [00:00, ? row/s]"
      ]
     },
     "metadata": {},
     "output_type": "display_data"
    },
    {
     "data": {
      "application/vnd.jupyter.widget-view+json": {
       "model_id": "7b302adcf0194d349c02f0052869e1b3",
       "version_major": 2,
       "version_minor": 0
      },
      "text/plain": [
       "- limit=5 3: 0.00 row [00:00, ? row/s]"
      ]
     },
     "metadata": {},
     "output_type": "display_data"
    },
    {
     "name": "stderr",
     "output_type": "stream",
     "text": [
      "2025-05-29 13:56:32,522\tINFO streaming_executor.py:220 -- ✔️  Dataset dataset_9_0 execution finished in 0.91 seconds\n"
     ]
    },
    {
     "name": "stdout",
     "output_type": "stream",
     "text": [
      "{'TweetId': 8801, 'Entity': 'Nvidia', 'Sentiment': 'Neutral', 'TweetContent': 'Interesting NVIDIA=ARM. nvidianews.nvidia.com/news/nvidia-to…'}\n",
      "{'TweetId': 8801, 'Entity': 'Nvidia', 'Sentiment': 'Neutral', 'TweetContent': 'Interesting NVIDIA = ARM. nvidianews.nvidia.com / news / nvidia-to...'}\n",
      "{'TweetId': 8801, 'Entity': 'Nvidia', 'Sentiment': 'Neutral', 'TweetContent': 'Interesting NVIDIA = ARM. nvidianews.nvidia.com / news / nvidia-to...'}\n",
      "{'TweetId': 8801, 'Entity': 'Nvidia', 'Sentiment': 'Neutral', 'TweetContent': 'Interesting NVIDIA=ARM. news.nvidia.com/news/nvidia-to…'}\n",
      "{'TweetId': 8801, 'Entity': 'Nvidia', 'Sentiment': 'Neutral', 'TweetContent': 'Information Interesting for NVIDIA = via ARM. nvidianews. nvidia. About com / exclusive news / nvidia - to …'}\n"
     ]
    }
   ],
   "source": [
    "ds2.show(5)"
   ]
  },
  {
   "cell_type": "markdown",
   "id": "c2714364-f3e7-427f-91ad-c01dd7b25090",
   "metadata": {},
   "source": [
    "#### map\n",
    "Funkcja konwertuje pojedyncze wiersze"
   ]
  },
  {
   "cell_type": "code",
   "execution_count": 83,
   "id": "a63c7bcb-5bb3-4e6f-9214-db3c8ab9f4ee",
   "metadata": {},
   "outputs": [
    {
     "name": "stderr",
     "output_type": "stream",
     "text": [
      "2025-05-29 13:56:38,285\tINFO logging.py:290 -- Registered dataset logger for dataset dataset_11_0\n",
      "2025-05-29 13:56:38,292\tINFO streaming_executor.py:117 -- Starting execution of Dataset dataset_11_0. Full logs are in /tmp/ray/session_2025-05-29_13-51-53_197612_14/logs/ray-data\n",
      "2025-05-29 13:56:38,292\tINFO streaming_executor.py:118 -- Execution plan of Dataset dataset_11_0: InputDataBuffer[Input] -> TaskPoolMapOperator[ReadCSV] -> TaskPoolMapOperator[Map(split_content)] -> LimitOperator[limit=10]\n"
     ]
    },
    {
     "data": {
      "application/vnd.jupyter.widget-view+json": {
       "model_id": "84252403cc4f4695b9b3670809209ecf",
       "version_major": 2,
       "version_minor": 0
      },
      "text/plain": [
       "Running 0: 0.00 row [00:00, ? row/s]"
      ]
     },
     "metadata": {},
     "output_type": "display_data"
    },
    {
     "data": {
      "application/vnd.jupyter.widget-view+json": {
       "model_id": "e62585e46e4a48efad5ec4aaf8fc962d",
       "version_major": 2,
       "version_minor": 0
      },
      "text/plain": [
       "- ReadCSV->SplitBlocks(24) 1: 0.00 row [00:00, ? row/s]"
      ]
     },
     "metadata": {},
     "output_type": "display_data"
    },
    {
     "data": {
      "application/vnd.jupyter.widget-view+json": {
       "model_id": "653e9de5a5c94e38ab0ae9e0fc81f1fc",
       "version_major": 2,
       "version_minor": 0
      },
      "text/plain": [
       "- Map(split_content) 2: 0.00 row [00:00, ? row/s]"
      ]
     },
     "metadata": {},
     "output_type": "display_data"
    },
    {
     "data": {
      "application/vnd.jupyter.widget-view+json": {
       "model_id": "b230cdaf60ce4078a291e57c8a427a7c",
       "version_major": 2,
       "version_minor": 0
      },
      "text/plain": [
       "- limit=10 3: 0.00 row [00:00, ? row/s]"
      ]
     },
     "metadata": {},
     "output_type": "display_data"
    },
    {
     "name": "stderr",
     "output_type": "stream",
     "text": [
      "2025-05-29 13:56:38,758\tINFO streaming_executor.py:220 -- ✔️  Dataset dataset_11_0 execution finished in 0.47 seconds\n"
     ]
    },
    {
     "name": "stdout",
     "output_type": "stream",
     "text": [
      "{'TweetId': 2401, 'Entity': 'Borderlands', 'Sentiment': 'Positive', 'TweetContent': 'im getting on borderlands and i will murder you all ,', 'words': ['im', 'getting', 'on', 'borderlands', 'and', 'i', 'will', 'murder', 'you', 'all', ',']}\n",
      "{'TweetId': 2401, 'Entity': 'Borderlands', 'Sentiment': 'Positive', 'TweetContent': 'I am coming to the borders and I will kill you all,', 'words': ['I', 'am', 'coming', 'to', 'the', 'borders', 'and', 'I', 'will', 'kill', 'you', 'all,']}\n",
      "{'TweetId': 2401, 'Entity': 'Borderlands', 'Sentiment': 'Positive', 'TweetContent': 'im getting on borderlands and i will kill you all,', 'words': ['im', 'getting', 'on', 'borderlands', 'and', 'i', 'will', 'kill', 'you', 'all,']}\n",
      "{'TweetId': 2401, 'Entity': 'Borderlands', 'Sentiment': 'Positive', 'TweetContent': 'im coming on borderlands and i will murder you all,', 'words': ['im', 'coming', 'on', 'borderlands', 'and', 'i', 'will', 'murder', 'you', 'all,']}\n",
      "{'TweetId': 2401, 'Entity': 'Borderlands', 'Sentiment': 'Positive', 'TweetContent': 'im getting on borderlands 2 and i will murder you me all,', 'words': ['im', 'getting', 'on', 'borderlands', '2', 'and', 'i', 'will', 'murder', 'you', 'me', 'all,']}\n",
      "{'TweetId': 2401, 'Entity': 'Borderlands', 'Sentiment': 'Positive', 'TweetContent': 'im getting into borderlands and i can murder you all,', 'words': ['im', 'getting', 'into', 'borderlands', 'and', 'i', 'can', 'murder', 'you', 'all,']}\n",
      "{'TweetId': 2402, 'Entity': 'Borderlands', 'Sentiment': 'Positive', 'TweetContent': \"So I spent a few hours making something for fun. . . If you don't know I am a HUGE @Borderlands fan and Maya is one of my favorite characters. So I decided to make myself a wallpaper for my PC. . Here is the original image versus the creation I made :) Enjoy! pic.twitter.com/mLsI5wf9Jg\", 'words': ['So', 'I', 'spent', 'a', 'few', 'hours', 'making', 'something', 'for', 'fun.', '.', '.', 'If', 'you', \"don't\", 'know', 'I', 'am', 'a', 'HUGE', '@Borderlands', 'fan', 'and', 'Maya', 'is', 'one', 'of', 'my', 'favorite', 'characters.', 'So', 'I', 'decided', 'to', 'make', 'myself', 'a', 'wallpaper', 'for', 'my', 'PC.', '.', 'Here', 'is', 'the', 'original', 'image', 'versus', 'the', 'creation', 'I', 'made', ':)', 'Enjoy!', 'pic.twitter.com/mLsI5wf9Jg']}\n",
      "{'TweetId': 2402, 'Entity': 'Borderlands', 'Sentiment': 'Positive', 'TweetContent': \"So I spent a couple of hours doing something for fun... If you don't know that I'm a huge @ Borderlands fan and Maya is one of my favorite characters, I decided to make a wallpaper for my PC.. Here's the original picture compared to the creation I made:) Have fun! pic.twitter.com / mLsI5wf9Jg\", 'words': ['So', 'I', 'spent', 'a', 'couple', 'of', 'hours', 'doing', 'something', 'for', 'fun...', 'If', 'you', \"don't\", 'know', 'that', \"I'm\", 'a', 'huge', '@', 'Borderlands', 'fan', 'and', 'Maya', 'is', 'one', 'of', 'my', 'favorite', 'characters,', 'I', 'decided', 'to', 'make', 'a', 'wallpaper', 'for', 'my', 'PC..', \"Here's\", 'the', 'original', 'picture', 'compared', 'to', 'the', 'creation', 'I', 'made:)', 'Have', 'fun!', 'pic.twitter.com', '/', 'mLsI5wf9Jg']}\n",
      "{'TweetId': 2402, 'Entity': 'Borderlands', 'Sentiment': 'Positive', 'TweetContent': \"So I spent a few hours doing something for fun... If you don't know I'm a HUGE @ Borderlands fan and Maya is one of my favorite characters.\", 'words': ['So', 'I', 'spent', 'a', 'few', 'hours', 'doing', 'something', 'for', 'fun...', 'If', 'you', \"don't\", 'know', \"I'm\", 'a', 'HUGE', '@', 'Borderlands', 'fan', 'and', 'Maya', 'is', 'one', 'of', 'my', 'favorite', 'characters.']}\n",
      "{'TweetId': 2402, 'Entity': 'Borderlands', 'Sentiment': 'Positive', 'TweetContent': \"So I spent a few hours making something for fun. . . If you don't know I am a HUGE RhandlerR fan and Maya is one of my favorite characters. So I decided to make myself a wallpaper for my PC. . Here is the original image versus the creation I made :) Enjoy! pic.twitter.com/mLsI5wf9Jg\", 'words': ['So', 'I', 'spent', 'a', 'few', 'hours', 'making', 'something', 'for', 'fun.', '.', '.', 'If', 'you', \"don't\", 'know', 'I', 'am', 'a', 'HUGE', 'RhandlerR', 'fan', 'and', 'Maya', 'is', 'one', 'of', 'my', 'favorite', 'characters.', 'So', 'I', 'decided', 'to', 'make', 'myself', 'a', 'wallpaper', 'for', 'my', 'PC.', '.', 'Here', 'is', 'the', 'original', 'image', 'versus', 'the', 'creation', 'I', 'made', ':)', 'Enjoy!', 'pic.twitter.com/mLsI5wf9Jg']}\n"
     ]
    }
   ],
   "source": [
    "def split_content(row):\n",
    "    row['words'] = row['TweetContent'].split()\n",
    "    return row\n",
    "    \n",
    "ds_train.map(split_content).show(10)"
   ]
  },
  {
   "cell_type": "markdown",
   "id": "bdcf656b-43f4-4fc4-88b7-a7ffcd709686",
   "metadata": {},
   "source": [
    "**TODO 4.1.1** \n",
    "* dodaj kolumnę ```word_count``` zawierającą liczbę słów w ```TweetContent```\n",
    "* zgrupuj po kolumnach ```Entity``` i ```Sentiment```\n",
    "* za pomocą ```sum(col_name)``` policz ile bylo słów we wpisach należących do danej grupy\n",
    "* wyświetl jako ```pandas.DataFrame```"
   ]
  },
  {
   "cell_type": "code",
   "execution_count": 87,
   "id": "0e61eaf9-2613-48a9-ad48-9d10ff2c9897",
   "metadata": {},
   "outputs": [
    {
     "name": "stderr",
     "output_type": "stream",
     "text": [
      "2025-05-29 14:00:55,303\tINFO logging.py:290 -- Registered dataset logger for dataset dataset_22_0\n",
      "2025-05-29 14:00:55,309\tINFO streaming_executor.py:117 -- Starting execution of Dataset dataset_22_0. Full logs are in /tmp/ray/session_2025-05-29_13-51-53_197612_14/logs/ray-data\n",
      "2025-05-29 14:00:55,310\tINFO streaming_executor.py:118 -- Execution plan of Dataset dataset_22_0: InputDataBuffer[Input] -> TaskPoolMapOperator[ReadCSV] -> TaskPoolMapOperator[Map(count_words)->Map(count_words)] -> AllToAllOperator[Aggregate]\n"
     ]
    },
    {
     "data": {
      "application/vnd.jupyter.widget-view+json": {
       "model_id": "3302a536265a47299404176c50658360",
       "version_major": 2,
       "version_minor": 0
      },
      "text/plain": [
       "Running 0: 0.00 row [00:00, ? row/s]"
      ]
     },
     "metadata": {},
     "output_type": "display_data"
    },
    {
     "data": {
      "application/vnd.jupyter.widget-view+json": {
       "model_id": "8eccfe5197b74db9ac899abd95baeffb",
       "version_major": 2,
       "version_minor": 0
      },
      "text/plain": [
       "- ReadCSV->SplitBlocks(24) 1: 0.00 row [00:00, ? row/s]"
      ]
     },
     "metadata": {},
     "output_type": "display_data"
    },
    {
     "data": {
      "application/vnd.jupyter.widget-view+json": {
       "model_id": "cc5b1d0a656d40ebb841e71583a8c321",
       "version_major": 2,
       "version_minor": 0
      },
      "text/plain": [
       "- Map(count_words)->Map(count_words) 2: 0.00 row [00:00, ? row/s]"
      ]
     },
     "metadata": {},
     "output_type": "display_data"
    },
    {
     "data": {
      "application/vnd.jupyter.widget-view+json": {
       "model_id": "2aec140e8d4d4ebcab6f26ab3f94a636",
       "version_major": 2,
       "version_minor": 0
      },
      "text/plain": [
       "- Aggregate 3: 0.00 row [00:00, ? row/s]"
      ]
     },
     "metadata": {},
     "output_type": "display_data"
    },
    {
     "data": {
      "application/vnd.jupyter.widget-view+json": {
       "model_id": "6623de2ded2d4eacaef8f8fd06e0b450",
       "version_major": 2,
       "version_minor": 0
      },
      "text/plain": [
       "Sort Sample 4:   0%|                                  | 0.00/1.00 [00:00<?, ? row/s]"
      ]
     },
     "metadata": {},
     "output_type": "display_data"
    },
    {
     "data": {
      "application/vnd.jupyter.widget-view+json": {
       "model_id": "988c05e988b749a8bc8e15693ad047a7",
       "version_major": 2,
       "version_minor": 0
      },
      "text/plain": [
       "Shuffle Map 5:   0%|                                  | 0.00/1.00 [00:00<?, ? row/s]"
      ]
     },
     "metadata": {},
     "output_type": "display_data"
    },
    {
     "data": {
      "application/vnd.jupyter.widget-view+json": {
       "model_id": "91f9a855cc4e42f6bb6943c2883158a8",
       "version_major": 2,
       "version_minor": 0
      },
      "text/plain": [
       "Shuffle Reduce 6:   0%|                               | 0.00/1.00 [00:00<?, ? row/s]"
      ]
     },
     "metadata": {},
     "output_type": "display_data"
    },
    {
     "name": "stderr",
     "output_type": "stream",
     "text": [
      "2025-05-29 14:00:56,792\tINFO streaming_executor.py:220 -- ✔️  Dataset dataset_22_0 execution finished in 1.48 seconds\n"
     ]
    },
    {
     "data": {
      "text/html": [
       "<div>\n",
       "<style scoped>\n",
       "    .dataframe tbody tr th:only-of-type {\n",
       "        vertical-align: middle;\n",
       "    }\n",
       "\n",
       "    .dataframe tbody tr th {\n",
       "        vertical-align: top;\n",
       "    }\n",
       "\n",
       "    .dataframe thead th {\n",
       "        text-align: right;\n",
       "    }\n",
       "</style>\n",
       "<table border=\"1\" class=\"dataframe\">\n",
       "  <thead>\n",
       "    <tr style=\"text-align: right;\">\n",
       "      <th></th>\n",
       "      <th>Entity</th>\n",
       "      <th>Sentiment</th>\n",
       "      <th>sum(word_count)</th>\n",
       "    </tr>\n",
       "  </thead>\n",
       "  <tbody>\n",
       "    <tr>\n",
       "      <th>0</th>\n",
       "      <td>Amazon</td>\n",
       "      <td>Irrelevant</td>\n",
       "      <td>3737</td>\n",
       "    </tr>\n",
       "    <tr>\n",
       "      <th>1</th>\n",
       "      <td>Amazon</td>\n",
       "      <td>Negative</td>\n",
       "      <td>13030</td>\n",
       "    </tr>\n",
       "    <tr>\n",
       "      <th>2</th>\n",
       "      <td>Amazon</td>\n",
       "      <td>Neutral</td>\n",
       "      <td>30397</td>\n",
       "    </tr>\n",
       "    <tr>\n",
       "      <th>3</th>\n",
       "      <td>Amazon</td>\n",
       "      <td>Positive</td>\n",
       "      <td>5715</td>\n",
       "    </tr>\n",
       "    <tr>\n",
       "      <th>4</th>\n",
       "      <td>ApexLegends</td>\n",
       "      <td>Irrelevant</td>\n",
       "      <td>2527</td>\n",
       "    </tr>\n",
       "    <tr>\n",
       "      <th>...</th>\n",
       "      <td>...</td>\n",
       "      <td>...</td>\n",
       "      <td>...</td>\n",
       "    </tr>\n",
       "    <tr>\n",
       "      <th>123</th>\n",
       "      <td>Xbox(Xseries)</td>\n",
       "      <td>Positive</td>\n",
       "      <td>13511</td>\n",
       "    </tr>\n",
       "    <tr>\n",
       "      <th>124</th>\n",
       "      <td>johnson&amp;johnson</td>\n",
       "      <td>Irrelevant</td>\n",
       "      <td>3026</td>\n",
       "    </tr>\n",
       "    <tr>\n",
       "      <th>125</th>\n",
       "      <td>johnson&amp;johnson</td>\n",
       "      <td>Negative</td>\n",
       "      <td>16883</td>\n",
       "    </tr>\n",
       "    <tr>\n",
       "      <th>126</th>\n",
       "      <td>johnson&amp;johnson</td>\n",
       "      <td>Neutral</td>\n",
       "      <td>22171</td>\n",
       "    </tr>\n",
       "    <tr>\n",
       "      <th>127</th>\n",
       "      <td>johnson&amp;johnson</td>\n",
       "      <td>Positive</td>\n",
       "      <td>5623</td>\n",
       "    </tr>\n",
       "  </tbody>\n",
       "</table>\n",
       "<p>128 rows × 3 columns</p>\n",
       "</div>"
      ],
      "text/plain": [
       "              Entity   Sentiment  sum(word_count)\n",
       "0             Amazon  Irrelevant             3737\n",
       "1             Amazon    Negative            13030\n",
       "2             Amazon     Neutral            30397\n",
       "3             Amazon    Positive             5715\n",
       "4        ApexLegends  Irrelevant             2527\n",
       "..               ...         ...              ...\n",
       "123    Xbox(Xseries)    Positive            13511\n",
       "124  johnson&johnson  Irrelevant             3026\n",
       "125  johnson&johnson    Negative            16883\n",
       "126  johnson&johnson     Neutral            22171\n",
       "127  johnson&johnson    Positive             5623\n",
       "\n",
       "[128 rows x 3 columns]"
      ]
     },
     "execution_count": 87,
     "metadata": {},
     "output_type": "execute_result"
    }
   ],
   "source": [
    "def count_words(row):\n",
    "    row[\"word_count\"] = len(row[\"TweetContent\"].split())\n",
    "    return row\n",
    "    \n",
    "ds_train = ds_train.map(count_words)\n",
    "ds_train.groupby([\"Entity\", \"Sentiment\"]).sum(\"word_count\").to_pandas()"
   ]
  },
  {
   "cell_type": "markdown",
   "id": "b2f1897d-c1cf-468c-91b3-88ff95ebf71a",
   "metadata": {},
   "source": [
    "#### flat_map\n",
    "Funkcja konweruje jeden wiersz na wiele wierszy (analogia do explode)"
   ]
  },
  {
   "cell_type": "code",
   "execution_count": 88,
   "id": "43ae6d60-9cb7-471c-bf77-6daae48f6dbf",
   "metadata": {},
   "outputs": [
    {
     "name": "stderr",
     "output_type": "stream",
     "text": [
      "2025-05-29 14:01:08,276\tINFO logging.py:290 -- Registered dataset logger for dataset dataset_24_0\n",
      "2025-05-29 14:01:08,284\tINFO streaming_executor.py:117 -- Starting execution of Dataset dataset_24_0. Full logs are in /tmp/ray/session_2025-05-29_13-51-53_197612_14/logs/ray-data\n",
      "2025-05-29 14:01:08,285\tINFO streaming_executor.py:118 -- Execution plan of Dataset dataset_24_0: InputDataBuffer[Input] -> TaskPoolMapOperator[ReadCSV] -> TaskPoolMapOperator[Map(count_words)->Map(count_words)->FlatMap(explode_content)] -> LimitOperator[limit=10]\n"
     ]
    },
    {
     "data": {
      "application/vnd.jupyter.widget-view+json": {
       "model_id": "76dcf3ad671a414ab1ba9cd80d560d11",
       "version_major": 2,
       "version_minor": 0
      },
      "text/plain": [
       "Running 0: 0.00 row [00:00, ? row/s]"
      ]
     },
     "metadata": {},
     "output_type": "display_data"
    },
    {
     "data": {
      "application/vnd.jupyter.widget-view+json": {
       "model_id": "d4f4d7681df745449988ff7dd9f2d4de",
       "version_major": 2,
       "version_minor": 0
      },
      "text/plain": [
       "- ReadCSV->SplitBlocks(24) 1: 0.00 row [00:00, ? row/s]"
      ]
     },
     "metadata": {},
     "output_type": "display_data"
    },
    {
     "data": {
      "application/vnd.jupyter.widget-view+json": {
       "model_id": "d2ed75995e0d4fd3aabab058a464a114",
       "version_major": 2,
       "version_minor": 0
      },
      "text/plain": [
       "- Map(count_words)->Map(count_words)->FlatMap(explode_content) 2: 0.00 row [00:00, ? row/s]"
      ]
     },
     "metadata": {},
     "output_type": "display_data"
    },
    {
     "data": {
      "application/vnd.jupyter.widget-view+json": {
       "model_id": "9456ad179bab4b93b15b2d60c215a8b2",
       "version_major": 2,
       "version_minor": 0
      },
      "text/plain": [
       "- limit=10 3: 0.00 row [00:00, ? row/s]"
      ]
     },
     "metadata": {},
     "output_type": "display_data"
    },
    {
     "name": "stderr",
     "output_type": "stream",
     "text": [
      "2025-05-29 14:01:08,328\tWARNING progress_bar.py:120 -- Truncating long operator name to 100 characters. To disable this behavior, set `ray.data.DataContext.get_current().DEFAULT_ENABLE_PROGRESS_BAR_NAME_TRUNCATION = False`.\n",
      "2025-05-29 14:01:09,071\tINFO streaming_executor.py:220 -- ✔️  Dataset dataset_24_0 execution finished in 0.79 seconds\n"
     ]
    },
    {
     "name": "stdout",
     "output_type": "stream",
     "text": [
      "{'word': 'im'}\n",
      "{'word': 'getting'}\n",
      "{'word': 'on'}\n",
      "{'word': 'borderlands'}\n",
      "{'word': 'and'}\n",
      "{'word': 'i'}\n",
      "{'word': 'will'}\n",
      "{'word': 'murder'}\n",
      "{'word': 'you'}\n",
      "{'word': 'all'}\n"
     ]
    }
   ],
   "source": [
    "def explode_content(row):\n",
    "    words = row['TweetContent'].split()\n",
    "    return [{'word':w} for w in words]\n",
    "\n",
    "ds_train.flat_map(explode_content).show(10)"
   ]
  },
  {
   "cell_type": "markdown",
   "id": "81eb0e98-b3fe-42e4-b455-4a923bb5c3b3",
   "metadata": {},
   "source": [
    "**TODO 4.1.2** Przepisz funckję ```explode_content()```\n",
    "\n",
    "W pętli po słowach:\n",
    "* utwórz kopię ```row```\n",
    "* dodaj słowo (w kolumnie ```word```)\n",
    "* dodaj zmodyfikowaną kopię do listy\n",
    "\n",
    "Zwróć listę"
   ]
  },
  {
   "cell_type": "code",
   "execution_count": 89,
   "id": "5cffbb36-7f90-4c3b-aa49-b1a383baefa9",
   "metadata": {},
   "outputs": [],
   "source": [
    "def explode_content(row):\n",
    "    rows = []\n",
    "    \n",
    "    text_to_split = row.get('content', '') \n",
    "    \n",
    "    words_list = text_to_split.split()\n",
    "\n",
    "    for word_item in words_list:\n",
    "        copied_row = row.copy() \n",
    "        copied_row['word'] = word_item \n",
    "        rows.append(copied_row)\n",
    "    \n",
    "    return rows"
   ]
  },
  {
   "cell_type": "markdown",
   "id": "9b98705a-930f-4a4e-9b35-d442d591a150",
   "metadata": {},
   "source": [
    "#### random_shuffle"
   ]
  },
  {
   "cell_type": "code",
   "execution_count": 90,
   "id": "4a511c56-4e34-423f-bef2-0d7ef599b8b2",
   "metadata": {},
   "outputs": [
    {
     "name": "stderr",
     "output_type": "stream",
     "text": [
      "2025-05-29 14:03:32,363\tINFO logging.py:290 -- Registered dataset logger for dataset dataset_25_0\n",
      "2025-05-29 14:03:32,373\tINFO streaming_executor.py:117 -- Starting execution of Dataset dataset_25_0. Full logs are in /tmp/ray/session_2025-05-29_13-51-53_197612_14/logs/ray-data\n",
      "2025-05-29 14:03:32,374\tINFO streaming_executor.py:118 -- Execution plan of Dataset dataset_25_0: InputDataBuffer[Input] -> TaskPoolMapOperator[ReadCSV] -> AllToAllOperator[Map(count_words)->Map(count_words)->RandomShuffle]\n"
     ]
    },
    {
     "data": {
      "application/vnd.jupyter.widget-view+json": {
       "model_id": "6a718e2bd0754a159285ed5fa20f6470",
       "version_major": 2,
       "version_minor": 0
      },
      "text/plain": [
       "Running 0: 0.00 row [00:00, ? row/s]"
      ]
     },
     "metadata": {},
     "output_type": "display_data"
    },
    {
     "data": {
      "application/vnd.jupyter.widget-view+json": {
       "model_id": "c49880c08c73469ca6ec514cee37ec8c",
       "version_major": 2,
       "version_minor": 0
      },
      "text/plain": [
       "- ReadCSV->SplitBlocks(24) 1: 0.00 row [00:00, ? row/s]"
      ]
     },
     "metadata": {},
     "output_type": "display_data"
    },
    {
     "data": {
      "application/vnd.jupyter.widget-view+json": {
       "model_id": "e0cf6bc78fda451c93f3a880bd3ddb95",
       "version_major": 2,
       "version_minor": 0
      },
      "text/plain": [
       "- Map(count_words)->Map(count_words)->RandomShuffle 2: 0.00 row [00:00, ? row/s]"
      ]
     },
     "metadata": {},
     "output_type": "display_data"
    },
    {
     "data": {
      "application/vnd.jupyter.widget-view+json": {
       "model_id": "c139c22393504b0db7dba99b23c97c43",
       "version_major": 2,
       "version_minor": 0
      },
      "text/plain": [
       "Shuffle Map 3:   0%|                                  | 0.00/1.00 [00:00<?, ? row/s]"
      ]
     },
     "metadata": {},
     "output_type": "display_data"
    },
    {
     "data": {
      "application/vnd.jupyter.widget-view+json": {
       "model_id": "77fa860a4a284bb0b6470d84801ca9d6",
       "version_major": 2,
       "version_minor": 0
      },
      "text/plain": [
       "Shuffle Reduce 4:   0%|                               | 0.00/1.00 [00:00<?, ? row/s]"
      ]
     },
     "metadata": {},
     "output_type": "display_data"
    },
    {
     "name": "stderr",
     "output_type": "stream",
     "text": [
      "2025-05-29 14:03:33,359\tINFO streaming_executor.py:220 -- ✔️  Dataset dataset_25_0 execution finished in 0.99 seconds\n"
     ]
    },
    {
     "data": {
      "text/html": [
       "<div>\n",
       "<style scoped>\n",
       "    .dataframe tbody tr th:only-of-type {\n",
       "        vertical-align: middle;\n",
       "    }\n",
       "\n",
       "    .dataframe tbody tr th {\n",
       "        vertical-align: top;\n",
       "    }\n",
       "\n",
       "    .dataframe thead th {\n",
       "        text-align: right;\n",
       "    }\n",
       "</style>\n",
       "<table border=\"1\" class=\"dataframe\">\n",
       "  <thead>\n",
       "    <tr style=\"text-align: right;\">\n",
       "      <th></th>\n",
       "      <th>TweetId</th>\n",
       "      <th>Entity</th>\n",
       "      <th>Sentiment</th>\n",
       "      <th>TweetContent</th>\n",
       "      <th>word_count</th>\n",
       "    </tr>\n",
       "  </thead>\n",
       "  <tbody>\n",
       "    <tr>\n",
       "      <th>0</th>\n",
       "      <td>10942</td>\n",
       "      <td>TomClancysGhostRecon</td>\n",
       "      <td>Negative</td>\n",
       "      <td>The @UbiSupportDE</td>\n",
       "      <td>2</td>\n",
       "    </tr>\n",
       "    <tr>\n",
       "      <th>1</th>\n",
       "      <td>2597</td>\n",
       "      <td>Borderlands</td>\n",
       "      <td>Positive</td>\n",
       "      <td>Borderlands 3 is Amazing: tch.tv / nightshade1...</td>\n",
       "      <td>8</td>\n",
       "    </tr>\n",
       "    <tr>\n",
       "      <th>2</th>\n",
       "      <td>1089</td>\n",
       "      <td>AssassinsCreed</td>\n",
       "      <td>Negative</td>\n",
       "      <td>Oh my holy god, how many Assassins Creeds coul...</td>\n",
       "      <td>41</td>\n",
       "    </tr>\n",
       "    <tr>\n",
       "      <th>3</th>\n",
       "      <td>13105</td>\n",
       "      <td>Xbox(Xseries)</td>\n",
       "      <td>Positive</td>\n",
       "      <td>Perfect timing right before my eyes.</td>\n",
       "      <td>6</td>\n",
       "    </tr>\n",
       "    <tr>\n",
       "      <th>4</th>\n",
       "      <td>9576</td>\n",
       "      <td>Overwatch</td>\n",
       "      <td>Negative</td>\n",
       "      <td>* opens Overwatch to play for the first time i...</td>\n",
       "      <td>33</td>\n",
       "    </tr>\n",
       "    <tr>\n",
       "      <th>...</th>\n",
       "      <td>...</td>\n",
       "      <td>...</td>\n",
       "      <td>...</td>\n",
       "      <td>...</td>\n",
       "      <td>...</td>\n",
       "    </tr>\n",
       "    <tr>\n",
       "      <th>74677</th>\n",
       "      <td>3642</td>\n",
       "      <td>Cyberpunk2077</td>\n",
       "      <td>Negative</td>\n",
       "      <td>People are upset over the @CyberpunkGame delay...</td>\n",
       "      <td>61</td>\n",
       "    </tr>\n",
       "    <tr>\n",
       "      <th>74678</th>\n",
       "      <td>12676</td>\n",
       "      <td>WorldOfCraft</td>\n",
       "      <td>Positive</td>\n",
       "      <td>What a beautiful day in the gale-force winds!</td>\n",
       "      <td>8</td>\n",
       "    </tr>\n",
       "    <tr>\n",
       "      <th>74679</th>\n",
       "      <td>1043</td>\n",
       "      <td>AssassinsCreed</td>\n",
       "      <td>Positive</td>\n",
       "      <td>I got the check out your new Assassin's Creed ...</td>\n",
       "      <td>34</td>\n",
       "    </tr>\n",
       "    <tr>\n",
       "      <th>74680</th>\n",
       "      <td>1787</td>\n",
       "      <td>CallOfDutyBlackopsColdWar</td>\n",
       "      <td>Positive</td>\n",
       "      <td>BRO LE CANT WAIT TILL AUGUST 26 COD BLACK OPS ...</td>\n",
       "      <td>22</td>\n",
       "    </tr>\n",
       "    <tr>\n",
       "      <th>74681</th>\n",
       "      <td>1084</td>\n",
       "      <td>AssassinsCreed</td>\n",
       "      <td>Positive</td>\n",
       "      <td>UGH IS SO YOU AWESOME!!!</td>\n",
       "      <td>5</td>\n",
       "    </tr>\n",
       "  </tbody>\n",
       "</table>\n",
       "<p>74682 rows × 5 columns</p>\n",
       "</div>"
      ],
      "text/plain": [
       "       TweetId                     Entity Sentiment  \\\n",
       "0        10942       TomClancysGhostRecon  Negative   \n",
       "1         2597                Borderlands  Positive   \n",
       "2         1089             AssassinsCreed  Negative   \n",
       "3        13105              Xbox(Xseries)  Positive   \n",
       "4         9576                  Overwatch  Negative   \n",
       "...        ...                        ...       ...   \n",
       "74677     3642              Cyberpunk2077  Negative   \n",
       "74678    12676               WorldOfCraft  Positive   \n",
       "74679     1043             AssassinsCreed  Positive   \n",
       "74680     1787  CallOfDutyBlackopsColdWar  Positive   \n",
       "74681     1084             AssassinsCreed  Positive   \n",
       "\n",
       "                                            TweetContent  word_count  \n",
       "0                                      The @UbiSupportDE           2  \n",
       "1      Borderlands 3 is Amazing: tch.tv / nightshade1...           8  \n",
       "2      Oh my holy god, how many Assassins Creeds coul...          41  \n",
       "3                   Perfect timing right before my eyes.           6  \n",
       "4      * opens Overwatch to play for the first time i...          33  \n",
       "...                                                  ...         ...  \n",
       "74677  People are upset over the @CyberpunkGame delay...          61  \n",
       "74678      What a beautiful day in the gale-force winds!           8  \n",
       "74679  I got the check out your new Assassin's Creed ...          34  \n",
       "74680  BRO LE CANT WAIT TILL AUGUST 26 COD BLACK OPS ...          22  \n",
       "74681                           UGH IS SO YOU AWESOME!!!           5  \n",
       "\n",
       "[74682 rows x 5 columns]"
      ]
     },
     "execution_count": 90,
     "metadata": {},
     "output_type": "execute_result"
    }
   ],
   "source": [
    "ds_train.random_shuffle(seed=1).to_pandas()"
   ]
  },
  {
   "cell_type": "markdown",
   "id": "3f9d773a-7d20-4597-9e46-932c000e5f79",
   "metadata": {},
   "source": [
    "#### iteratory (w tym dzielące na wsady: batch)"
   ]
  },
  {
   "cell_type": "code",
   "execution_count": 91,
   "id": "39d656e8-2c9a-49e3-93ec-1af42f8de5d6",
   "metadata": {},
   "outputs": [
    {
     "name": "stderr",
     "output_type": "stream",
     "text": [
      "2025-05-29 14:03:39,788\tINFO logging.py:290 -- Registered dataset logger for dataset dataset_20_0\n",
      "2025-05-29 14:03:39,824\tINFO streaming_executor.py:117 -- Starting execution of Dataset dataset_20_0. Full logs are in /tmp/ray/session_2025-05-29_13-51-53_197612_14/logs/ray-data\n",
      "2025-05-29 14:03:39,827\tINFO streaming_executor.py:118 -- Execution plan of Dataset dataset_20_0: InputDataBuffer[Input] -> TaskPoolMapOperator[ReadCSV] -> TaskPoolMapOperator[Map(count_words)->Map(count_words)]\n"
     ]
    },
    {
     "data": {
      "application/vnd.jupyter.widget-view+json": {
       "model_id": "8cacfdcb6f0f42d99a413c0c825828c0",
       "version_major": 2,
       "version_minor": 0
      },
      "text/plain": [
       "Running 0: 0.00 row [00:00, ? row/s]"
      ]
     },
     "metadata": {},
     "output_type": "display_data"
    },
    {
     "data": {
      "application/vnd.jupyter.widget-view+json": {
       "model_id": "d5bb9744cc29430fb7620b6c80b58caa",
       "version_major": 2,
       "version_minor": 0
      },
      "text/plain": [
       "- ReadCSV->SplitBlocks(24) 1: 0.00 row [00:00, ? row/s]"
      ]
     },
     "metadata": {},
     "output_type": "display_data"
    },
    {
     "data": {
      "application/vnd.jupyter.widget-view+json": {
       "model_id": "1dd8e6839edb485ea9b99e1ae9e48655",
       "version_major": 2,
       "version_minor": 0
      },
      "text/plain": [
       "- Map(count_words)->Map(count_words) 2: 0.00 row [00:00, ? row/s]"
      ]
     },
     "metadata": {},
     "output_type": "display_data"
    },
    {
     "name": "stdout",
     "output_type": "stream",
     "text": [
      "{'TweetId': 2401, 'Entity': 'Borderlands', 'Sentiment': 'Positive', 'TweetContent': 'im getting on borderlands and i will murder you all ,', 'word_count': 11}\n",
      "{'TweetId': 2401, 'Entity': 'Borderlands', 'Sentiment': 'Positive', 'TweetContent': 'I am coming to the borders and I will kill you all,', 'word_count': 12}\n",
      "{'TweetId': 2401, 'Entity': 'Borderlands', 'Sentiment': 'Positive', 'TweetContent': 'im getting on borderlands and i will kill you all,', 'word_count': 10}\n"
     ]
    },
    {
     "name": "stderr",
     "output_type": "stream",
     "text": [
      "2025-05-29 14:03:41,183\tINFO streaming_executor.py:220 -- ✔️  Dataset dataset_20_0 execution finished in 1.36 seconds\n"
     ]
    }
   ],
   "source": [
    "for i,row in enumerate(ds_train.iter_rows()):\n",
    "    if i==3:\n",
    "        break\n",
    "    print(row)"
   ]
  },
  {
   "cell_type": "code",
   "execution_count": 92,
   "id": "eb72d87c-8090-43bf-b8e4-5359960ec85a",
   "metadata": {},
   "outputs": [
    {
     "name": "stderr",
     "output_type": "stream",
     "text": [
      "2025-05-29 14:03:41,845\tINFO logging.py:290 -- Registered dataset logger for dataset dataset_20_1\n",
      "2025-05-29 14:03:41,868\tINFO streaming_executor.py:117 -- Starting execution of Dataset dataset_20_1. Full logs are in /tmp/ray/session_2025-05-29_13-51-53_197612_14/logs/ray-data\n",
      "2025-05-29 14:03:41,868\tINFO streaming_executor.py:118 -- Execution plan of Dataset dataset_20_1: InputDataBuffer[Input] -> TaskPoolMapOperator[ReadCSV] -> TaskPoolMapOperator[Map(count_words)->Map(count_words)]\n"
     ]
    },
    {
     "data": {
      "application/vnd.jupyter.widget-view+json": {
       "model_id": "331050b108624332aee3940ebfaf1e05",
       "version_major": 2,
       "version_minor": 0
      },
      "text/plain": [
       "Running 0: 0.00 row [00:00, ? row/s]"
      ]
     },
     "metadata": {},
     "output_type": "display_data"
    },
    {
     "data": {
      "application/vnd.jupyter.widget-view+json": {
       "model_id": "4d46256fe8ea4730aea2a1ed50be4e2d",
       "version_major": 2,
       "version_minor": 0
      },
      "text/plain": [
       "- ReadCSV->SplitBlocks(24) 1: 0.00 row [00:00, ? row/s]"
      ]
     },
     "metadata": {},
     "output_type": "display_data"
    },
    {
     "data": {
      "application/vnd.jupyter.widget-view+json": {
       "model_id": "cbcaadfc8bea4cb5b1520ccf6a9320b5",
       "version_major": 2,
       "version_minor": 0
      },
      "text/plain": [
       "- Map(count_words)->Map(count_words) 2: 0.00 row [00:00, ? row/s]"
      ]
     },
     "metadata": {},
     "output_type": "display_data"
    },
    {
     "name": "stdout",
     "output_type": "stream",
     "text": [
      "-------------\n",
      "{'TweetId': array([2401, 2401]), 'Entity': array(['Borderlands', 'Borderlands'], dtype=object), 'Sentiment': array(['Positive', 'Positive'], dtype=object), 'TweetContent': array(['im getting on borderlands and i will murder you all ,',\n",
      "       'I am coming to the borders and I will kill you all,'],\n",
      "      dtype=object), 'word_count': array([11, 12])}\n",
      "-------------\n",
      "{'TweetId': array([2401, 2401]), 'Entity': array(['Borderlands', 'Borderlands'], dtype=object), 'Sentiment': array(['Positive', 'Positive'], dtype=object), 'TweetContent': array(['im getting on borderlands and i will kill you all,',\n",
      "       'im coming on borderlands and i will murder you all,'],\n",
      "      dtype=object), 'word_count': array([10, 10])}\n",
      "-------------\n",
      "{'TweetId': array([2401, 2401]), 'Entity': array(['Borderlands', 'Borderlands'], dtype=object), 'Sentiment': array(['Positive', 'Positive'], dtype=object), 'TweetContent': array(['im getting on borderlands 2 and i will murder you me all,',\n",
      "       'im getting into borderlands and i can murder you all,'],\n",
      "      dtype=object), 'word_count': array([12, 10])}\n"
     ]
    },
    {
     "name": "stderr",
     "output_type": "stream",
     "text": [
      "2025-05-29 14:03:42,766\tINFO streaming_executor.py:220 -- ✔️  Dataset dataset_20_1 execution finished in 0.90 seconds\n"
     ]
    }
   ],
   "source": [
    "for i,row in enumerate(ds_train.iter_batches(batch_size=2)):\n",
    "    if i==3:\n",
    "        break\n",
    "    print('-------------')    \n",
    "    print(row)"
   ]
  },
  {
   "cell_type": "markdown",
   "id": "ed955448-1de1-438c-b0ac-54b738dc3e5d",
   "metadata": {},
   "source": [
    "## 5. Klasyfikacja"
   ]
  },
  {
   "cell_type": "markdown",
   "id": "b747e1f6-8eb3-4f21-ad84-a3ee973cf1b2",
   "metadata": {},
   "source": [
    "### 5.1 Metryki"
   ]
  },
  {
   "cell_type": "markdown",
   "id": "e68ebac1-4d7f-432b-9970-734686ea5a77",
   "metadata": {},
   "source": [
    "**TODO 5.1.1** napisz funkcję, która oblicza i zwraca metryki lub raport klasyfikacji"
   ]
  },
  {
   "cell_type": "code",
   "execution_count": 122,
   "id": "1414670c-635b-4cde-8cec-5d3b7dd2c92b",
   "metadata": {},
   "outputs": [],
   "source": [
    "from sklearn.metrics import precision_score, recall_score, classification_report, f1_score, accuracy_score\n",
    "\n",
    "@ray.remote\n",
    "def get_classification_results(y_true,y_pred,labels=None,return_scores=True):\n",
    "    \"\"\"\n",
    "    Funkcja oblicza wetryki klasyfikacji\n",
    "    Jeżeli return_scores==True funkcja zwraca słownik zawierający wartości accuracy, precision, recall (w wersji macro)\n",
    "    Jeżeli return_scores==False funcka zwraca tekst będący wynikiem wywołania classification_report (z etykietami klas)\n",
    "    \"\"\"\n",
    "    if return_scores:\n",
    "        accuracy = accuracy_score(y_true, y_pred)\n",
    "        precision = precision_score(y_true, y_pred, average='macro', zero_division=0)\n",
    "        recall = recall_score(y_true, y_pred, average='macro', zero_division=0)\n",
    "        f1 = f1_score(y_true, y_pred, average='macro', zero_division=0)\n",
    "        return {\n",
    "            \"accuracy\": accuracy,\n",
    "            \"precision\": precision,\n",
    "            \"recall\": recall,\n",
    "            \"f1_score\": f1,\n",
    "        }\n",
    "    else:\n",
    "        return classification_report(y_true, y_pred, labels=labels, zero_division=0)"
   ]
  },
  {
   "cell_type": "code",
   "execution_count": 123,
   "id": "483138ac-3ca6-41d3-9c1d-314881e12ba3",
   "metadata": {},
   "outputs": [
    {
     "data": {
      "text/plain": [
       "{'accuracy': 0.8333333333333334,\n",
       " 'precision': 0.8888888888888888,\n",
       " 'recall': 0.8333333333333334,\n",
       " 'f1_score': 0.8222222222222223}"
      ]
     },
     "execution_count": 123,
     "metadata": {},
     "output_type": "execute_result"
    }
   ],
   "source": [
    "results_ref = get_classification_results.remote([1,1,2,2,3,3],[1,1,2,1,3,3],labels=['a','b','c'])\n",
    "ray.get(results_ref)"
   ]
  },
  {
   "cell_type": "code",
   "execution_count": 124,
   "id": "f63c9523-1c6d-4034-96a8-f64c58dce857",
   "metadata": {},
   "outputs": [
    {
     "name": "stdout",
     "output_type": "stream",
     "text": [
      "              precision    recall  f1-score   support\n",
      "\n",
      "           a       0.00      0.00      0.00         0\n",
      "           b       0.00      0.00      0.00         0\n",
      "           c       0.00      0.00      0.00         0\n",
      "\n",
      "   micro avg       0.00      0.00      0.00         0\n",
      "   macro avg       0.00      0.00      0.00         0\n",
      "weighted avg       0.00      0.00      0.00         0\n",
      "\n"
     ]
    }
   ],
   "source": [
    "results_ref = get_classification_results.remote([1,1,2,2,3,3],[1,1,2,1,3,3],labels=['a','b','c'],return_scores=False)\n",
    "print(ray.get(results_ref))"
   ]
  },
  {
   "cell_type": "markdown",
   "id": "ef0b746c-b0ee-4b7b-b4df-a3c3994a6bdd",
   "metadata": {},
   "source": [
    "### 5.2 train_and_test"
   ]
  },
  {
   "cell_type": "markdown",
   "id": "b1144589-e3ec-4598-8ff8-c22ffd46d47f",
   "metadata": {},
   "source": [
    "**TODO 5.2.1** Napisz funckję zgodnie ze specyfikacją"
   ]
  },
  {
   "cell_type": "code",
   "execution_count": 140,
   "id": "0cc16ad8-25e4-46a4-b16c-42d8cf0733bf",
   "metadata": {},
   "outputs": [],
   "source": [
    "from sklearn import preprocessing\n",
    "\n",
    "@ray.remote\n",
    "def train_and_test(df_train, df_test, model, features_column, target_column, return_scores=True):\n",
    "    \"\"\"\n",
    "    Funkcja (1) stosuje preprocessing.LabelEncoder() dla zbudowania wektorów liczbowych etykiet y_train oraz y_test\n",
    "    (2) przeprowadza uczenie modelu\n",
    "    (3) wyznacza wartości przewidywanych etykiet dla zbioru treningowego i testowego\n",
    "    (4) wyznacza metryki predykcji dla zbioru uczącego i testowego wywołując get_classification_results\n",
    "    \n",
    "    Params: df_train - zbiór treningowy\n",
    "            df_test  - zbiór testowy\n",
    "            model - model klasyfikatora (algorytm) \n",
    "            features_column - kolumna lub lista kolumn zawierająca cechy\n",
    "            target_column - kolumna z etykietami\n",
    "            return_scores - analogicznie, jak get_classification_results\n",
    "    Returns:\n",
    "            Słownik zawierający następujące elementy\n",
    "            * 'train' - metryki dla zbioru treningowego\n",
    "            * 'test' - metryki dla zbioru testowego (powinno być \"testowego\", nie \"uczącego\" w opisie zwrotki)\n",
    "            * 'model' - wytrenowany model\n",
    "            * 'labels' - unikalne etykiety (klasy) po enkodowaniu\n",
    "    \"\"\"\n",
    "    \n",
    "    le = preprocessing.LabelEncoder()\n",
    "    \n",
    "    y_train_encoded = le.fit_transform(df_train[target_column])\n",
    "\n",
    "    try:\n",
    "        y_test_encoded = le.transform(df_test[target_column])\n",
    "    except ValueError as e:\n",
    "        \n",
    "        print(f\"Error encoding test labels: {e}. New labels found in test set not present in training set.\")\n",
    "        \n",
    "        return {\n",
    "            'train': {},\n",
    "            'test': {},\n",
    "            'model': model,\n",
    "            'labels': []\n",
    "        }\n",
    "\n",
    "    X_train = df_train[features_column]\n",
    "    X_test = df_test[features_column]\n",
    "    \n",
    "    model.fit(X_train, y_train_encoded)\n",
    "    \n",
    "    y_pred_train = model.predict(X_train)\n",
    "    y_pred_test = model.predict(X_test)\n",
    "    \n",
    "   \n",
    "    encoded_labels = list(range(len(le.classes_)))\n",
    "\n",
    "    results_train = get_classification_results.remote(y_train_encoded, y_pred_train, labels=encoded_labels, return_scores=return_scores)\n",
    "    results_test = get_classification_results.remote(y_test_encoded, y_pred_test, labels=encoded_labels, return_scores=return_scores)\n",
    "    \n",
    "    return {\n",
    "        'train': results_train,\n",
    "        'test': results_test,\n",
    "        'model': model,\n",
    "        'labels': le.classes_ \n",
    "    }\n",
    "\n"
   ]
  },
  {
   "cell_type": "markdown",
   "id": "64b75f75-2f3b-403f-960c-5d99204503fb",
   "metadata": {},
   "source": [
    "### 5.3 Wywołanie"
   ]
  },
  {
   "cell_type": "code",
   "execution_count": 141,
   "id": "4751c9b0-534a-48c8-b152-00f088962b7f",
   "metadata": {},
   "outputs": [
    {
     "name": "stderr",
     "output_type": "stream",
     "text": [
      "2025-05-29 14:24:30,960\tINFO logging.py:290 -- Registered dataset logger for dataset dataset_32_0\n"
     ]
    },
    {
     "name": "stderr",
     "output_type": "stream",
     "text": [
      "2025-05-29 14:24:30,965\tINFO streaming_executor.py:117 -- Starting execution of Dataset dataset_32_0. Full logs are in /tmp/ray/session_2025-05-29_13-51-53_197612_14/logs/ray-data\n",
      "2025-05-29 14:24:30,965\tINFO streaming_executor.py:118 -- Execution plan of Dataset dataset_32_0: InputDataBuffer[Input] -> TaskPoolMapOperator[ReadCSV]\n"
     ]
    },
    {
     "data": {
      "application/vnd.jupyter.widget-view+json": {
       "model_id": "f4da54b381564bca98b87b87105bfbd3",
       "version_major": 2,
       "version_minor": 0
      },
      "text/plain": [
       "Running 0: 0.00 row [00:00, ? row/s]"
      ]
     },
     "metadata": {},
     "output_type": "display_data"
    },
    {
     "data": {
      "application/vnd.jupyter.widget-view+json": {
       "model_id": "09f9d1eed7654975b4e82131aee14372",
       "version_major": 2,
       "version_minor": 0
      },
      "text/plain": [
       "- ReadCSV->SplitBlocks(24) 1: 0.00 row [00:00, ? row/s]"
      ]
     },
     "metadata": {},
     "output_type": "display_data"
    },
    {
     "name": "stderr",
     "output_type": "stream",
     "text": [
      "2025-05-29 14:24:31,119\tINFO streaming_executor.py:220 -- ✔️  Dataset dataset_32_0 execution finished in 0.15 seconds\n",
      "2025-05-29 14:24:31,139\tINFO logging.py:290 -- Registered dataset logger for dataset dataset_33_0\n",
      "2025-05-29 14:24:31,142\tINFO streaming_executor.py:117 -- Starting execution of Dataset dataset_33_0. Full logs are in /tmp/ray/session_2025-05-29_13-51-53_197612_14/logs/ray-data\n",
      "2025-05-29 14:24:31,142\tINFO streaming_executor.py:118 -- Execution plan of Dataset dataset_33_0: InputDataBuffer[Input] -> TaskPoolMapOperator[ReadCSV]\n"
     ]
    },
    {
     "data": {
      "application/vnd.jupyter.widget-view+json": {
       "model_id": "d1238813e6e444dd9c6b5526d5acf87d",
       "version_major": 2,
       "version_minor": 0
      },
      "text/plain": [
       "Running 0: 0.00 row [00:00, ? row/s]"
      ]
     },
     "metadata": {},
     "output_type": "display_data"
    },
    {
     "data": {
      "application/vnd.jupyter.widget-view+json": {
       "model_id": "54eeecb8fd9f4395bff4c19f56d381af",
       "version_major": 2,
       "version_minor": 0
      },
      "text/plain": [
       "- ReadCSV->SplitBlocks(24) 1: 0.00 row [00:00, ? row/s]"
      ]
     },
     "metadata": {},
     "output_type": "display_data"
    },
    {
     "name": "stderr",
     "output_type": "stream",
     "text": [
      "2025-05-29 14:24:31,203\tINFO streaming_executor.py:220 -- ✔️  Dataset dataset_33_0 execution finished in 0.06 seconds\n"
     ]
    }
   ],
   "source": [
    "ds_train = ray.data.read_csv(\"twitter_training.csv\")\n",
    "ds_test = ray.data.read_csv(\"twitter_validation.csv\")\n",
    "df_train = ds_train.to_pandas()\n",
    "df_test = ds_test.to_pandas()\n",
    "df_train_ref = ray.put(df_train)\n",
    "df_test_ref = ray.put(df_test)"
   ]
  },
  {
   "cell_type": "markdown",
   "id": "ab3b78d2-8c27-4690-9a20-dc515fb90c18",
   "metadata": {},
   "source": [
    "**TODO 5.3.1** Wywołaj funkcję przekazując referencje do odpowiednich obiektów Ray"
   ]
  },
  {
   "cell_type": "code",
   "execution_count": 142,
   "id": "853a5521-e211-4e71-80a1-b1297e5555a3",
   "metadata": {},
   "outputs": [],
   "source": [
    "from sklearn.feature_extraction.text import CountVectorizer, TfidfVectorizer\n",
    "from sklearn.naive_bayes import MultinomialNB\n",
    "from sklearn.pipeline import Pipeline\n",
    "from sklearn.linear_model import SGDClassifier\n",
    "\n",
    "pipeline = Pipeline([('vect', CountVectorizer()), ('cls', MultinomialNB())])\n",
    "results_ref = train_and_test.remote(df_test, df_train, pipeline, features_column='TweetContent', target_column='Sentiment', return_scores=True)"
   ]
  },
  {
   "cell_type": "code",
   "execution_count": 143,
   "id": "86ec8008-0c05-41b5-8015-4a2beeb571e0",
   "metadata": {},
   "outputs": [],
   "source": [
    "results = ray.get(results_ref)"
   ]
  },
  {
   "cell_type": "code",
   "execution_count": 144,
   "id": "bce32b16-c4cf-458a-8a1c-c8750b539fac",
   "metadata": {},
   "outputs": [
    {
     "data": {
      "text/plain": [
       "{'accuracy': 0.926,\n",
       " 'precision': 0.9346594710758798,\n",
       " 'recall': 0.9150514051689547,\n",
       " 'f1_score': 0.92203211860943}"
      ]
     },
     "execution_count": 144,
     "metadata": {},
     "output_type": "execute_result"
    }
   ],
   "source": [
    "ray.get(results['train'])"
   ]
  },
  {
   "cell_type": "code",
   "execution_count": 145,
   "id": "1f4cb56e-0416-4c46-ad37-39a8f9d67520",
   "metadata": {},
   "outputs": [
    {
     "data": {
      "text/plain": [
       "{'accuracy': 0.5190541228140649,\n",
       " 'precision': 0.5288411642179806,\n",
       " 'recall': 0.4789083704113255,\n",
       " 'f1_score': 0.46818717380638136}"
      ]
     },
     "execution_count": 145,
     "metadata": {},
     "output_type": "execute_result"
    }
   ],
   "source": [
    "ray.get(results['test'])"
   ]
  },
  {
   "cell_type": "markdown",
   "id": "e01b28f6-8600-4097-a4e1-32180bb8ad1c",
   "metadata": {},
   "source": [
    "**TODO 5.3.2** Wywołaj funkcję dla innego klasyfikatora i odczytaj wyniki"
   ]
  },
  {
   "cell_type": "code",
   "execution_count": 147,
   "id": "83698d6d-561d-4366-b3a8-fa23f56a0290",
   "metadata": {},
   "outputs": [],
   "source": [
    "from sklearn.linear_model import SGDClassifier\n",
    "\n",
    "from sklearn.pipeline import Pipeline\n",
    "from sklearn.linear_model import SGDClassifier\n",
    "pipeline = Pipeline([('vect', CountVectorizer()), ('cls', SGDClassifier(loss='perceptron', penalty='l2', alpha=1e-3))])\n",
    "results_ref = train_and_test.remote(df_test, df_train, pipeline, features_column='TweetContent', target_column='Sentiment', return_scores=True)"
   ]
  },
  {
   "cell_type": "code",
   "execution_count": 148,
   "id": "ae2caae7-8900-4e13-89bf-b4be37648bcc",
   "metadata": {},
   "outputs": [],
   "source": [
    "results = ray.get(results_ref)"
   ]
  },
  {
   "cell_type": "code",
   "execution_count": 149,
   "id": "70087840-784d-4e7a-a6e0-f98deaef53be",
   "metadata": {},
   "outputs": [
    {
     "data": {
      "text/plain": [
       "{'accuracy': 1.0, 'precision': 1.0, 'recall': 1.0, 'f1_score': 1.0}"
      ]
     },
     "execution_count": 149,
     "metadata": {},
     "output_type": "execute_result"
    }
   ],
   "source": [
    "#train\n",
    "ray.get(results['train'])"
   ]
  },
  {
   "cell_type": "code",
   "execution_count": 150,
   "id": "447b7d3b-c474-4739-955c-eab251d0c478",
   "metadata": {},
   "outputs": [
    {
     "data": {
      "text/plain": [
       "{'accuracy': 0.4831686350124528,\n",
       " 'precision': 0.47516743711527837,\n",
       " 'recall': 0.4553435268456473,\n",
       " 'f1_score': 0.4544603648632852}"
      ]
     },
     "execution_count": 150,
     "metadata": {},
     "output_type": "execute_result"
    }
   ],
   "source": [
    "# test\n",
    "ray.get(results['test'])"
   ]
  },
  {
   "cell_type": "markdown",
   "id": "4f8d68a1-96ff-4598-b2b4-4330e930d6f4",
   "metadata": {},
   "source": [
    "## 6. Walidacja krzyżowa"
   ]
  },
  {
   "cell_type": "markdown",
   "id": "7f500b08-bc42-4c1a-ab3e-e555042dc712",
   "metadata": {},
   "source": [
    "**TODO 6.1.1** Napisz funkcję zgodnie ze specyfikacją. \n",
    "\n",
    "Będzie realizowała pojedyncze zadanie wywoływane podczas walidacji krzyżowej (uczenie na k-1 podzbiorach, testowanie na jednym pozostawionym podzbiorze). \n",
    "* Te zadania można zrównoleglić.\n",
    "* Zbiór, na którym będzie wykonywana walidacja krzyżowa będzie obiektem\n",
    "* Zadania będą wywoływane z róznymi zestawami indeksów odpowiadającymi podziałowi na podzbiory (*ang. fold*) uzyte do budowy modelu i testowania"
   ]
  },
  {
   "cell_type": "code",
   "execution_count": 62,
   "id": "8edc7a3e-b838-48b5-994c-e7acb0fbf4b2",
   "metadata": {},
   "outputs": [],
   "source": [
    "@ray.remote\n",
    "def train_and_test_fold(df,train_indexes,test_indexes, model,features_column, target_column,return_scores=True):\n",
    "    \"\"\"\n",
    "    Funkcja\n",
    "    (1) dzieli zbiór na podzbiór dt_train treningowy i df_test testowy na podstawie indeksów wierszy \n",
    "    (2) stosuje preprocessing.LabelEncoder() dla zbudowania wektorów liczbowych etykiet y_train oraz y_test\n",
    "    (3) przeprowadza uczenie modelu\n",
    "    (4) wyznacza wartości przewidywanych etykiet dla zbioru treningowego i testowego\n",
    "    (5) wyznacza metryki predykcji dla zbioru uczącego i testowego wywołując get_classification_results\n",
    "    \n",
    "    Params: df - zbiór poddany walidacji krzyżowej \n",
    "            train_indexes - indeksy wierszy podzbioru treningowego (z \n",
    "            test_indexes  - indeksy wierszy podzbioru testowego\n",
    "            model - model klasyfikatora (algorytm) \n",
    "            features_column - kolumna zawierająca cechy\n",
    "            target_column - kolumna z etykietami\n",
    "            return_scores - analogicznie, jak get_classification_results\n",
    "    Returns:\n",
    "            Słownik zawierający następujące elementy\n",
    "            * 'train' - metryki dla zbioru treningowego\n",
    "            * 'test' - metryki dla zbioru uczącego\n",
    "            * 'model' - wytrenowany model\n",
    "            * 'labels' - etykiety\n",
    "    \"\"\"\n",
    "    \n",
    "    \n"
   ]
  },
  {
   "cell_type": "markdown",
   "id": "99aa6b8b-ab81-4dea-88c1-326fb33e32e7",
   "metadata": {},
   "source": [
    "Przykład funkcji realizującej walidację krzyzową ze stratyfikacją (podziałem zachowującym prawdopodobieństwo a-priori klas)"
   ]
  },
  {
   "cell_type": "code",
   "execution_count": 63,
   "id": "2d6c18db-3070-4385-9de1-ab3e30aafc87",
   "metadata": {},
   "outputs": [],
   "source": [
    "from sklearn.model_selection import StratifiedKFold\n",
    "from sklearn.base import clone\n",
    "\n",
    "@ray.remote\n",
    "def cross_validate_stratified(df,model, features_column, target_column ,n_splits=10):\n",
    "    skf = StratifiedKFold(n_splits=n_splits)\n",
    "    result_refs=[]\n",
    "    for i, (train_indexes, test_indexes) in enumerate(skf.split(df_train, df_train[target_column])):\n",
    "        result_refs.append(train_and_test_fold.remote(df_train,train_indexes, test_indexes,clone(model),features_column, target_column))\n",
    "    return result_refs"
   ]
  },
  {
   "cell_type": "markdown",
   "id": "210361bf-a7a0-482f-b813-0e85c398b2ba",
   "metadata": {},
   "source": [
    "**TODO 6.1.2** napisz analogiczną funkcję bez startyfikacji, posługująca się klasa ```KFold```"
   ]
  },
  {
   "cell_type": "code",
   "execution_count": 64,
   "id": "84e49a14-8e52-4226-98a5-eea804060dda",
   "metadata": {},
   "outputs": [],
   "source": [
    "from sklearn.model_selection import KFold\n",
    "from sklearn.base import clone\n",
    "\n",
    "\n"
   ]
  },
  {
   "cell_type": "code",
   "execution_count": 65,
   "id": "bfb962b4-95cf-4c13-a956-5a7473fe9b8b",
   "metadata": {},
   "outputs": [],
   "source": [
    "pipeline = Pipeline([('vect', CountVectorizer()), ('cls', SGDClassifier(loss='perceptron', penalty='l2', alpha=1e-3))])\n",
    "results_ref = cross_validate_stratified.remote(df_train_ref, \n",
    "                                    pipeline,\n",
    "                                    features_column='TweetContent', target_column='Sentiment')"
   ]
  },
  {
   "cell_type": "markdown",
   "id": "9153dc6b-c085-45cb-8f7f-e490f6b04a4f",
   "metadata": {},
   "source": [
    "**TODO 6.1.3** Odczytaj wyniki"
   ]
  },
  {
   "cell_type": "code",
   "execution_count": 66,
   "id": "11eeb9ce-bced-4d65-ad1b-08f656d564a7",
   "metadata": {},
   "outputs": [],
   "source": []
  },
  {
   "cell_type": "code",
   "execution_count": 69,
   "id": "6ddf9ab8-b65f-484a-825f-ca72d401bde2",
   "metadata": {},
   "outputs": [
    {
     "name": "stdout",
     "output_type": "stream",
     "text": [
      "train {'accuracy': 0.8898278606817134, 'precision': 0.8911304883297855, 'recall': 0.8878996366869284, 'f1': 0.8893661435433775}\n",
      "test {'accuracy': 0.4360690855536216, 'precision': 0.42994047046660894, 'recall': 0.42466689688440096, 'f1': 0.42178545226434544}\n",
      "train {'accuracy': 0.8911520092839182, 'precision': 0.8924257876098458, 'recall': 0.8912117934523252, 'f1': 0.8912208667927195}\n",
      "test {'accuracy': 0.4228142991029589, 'precision': 0.426252405163982, 'recall': 0.4103779190427649, 'f1': 0.41028188947474686}\n",
      "train {'accuracy': 0.8937870086589104, 'precision': 0.8977167796557702, 'recall': 0.89076967062012, 'f1': 0.8935159011064373}\n",
      "test {'accuracy': 0.3532404927691484, 'precision': 0.33984564821632757, 'recall': 0.3366352761281294, 'f1': 0.33013953693547415}\n",
      "train {'accuracy': 0.8949772368851727, 'precision': 0.895520122130066, 'recall': 0.8931773460174912, 'f1': 0.894197958714404}\n",
      "test {'accuracy': 0.3445366898768077, 'precision': 0.33308059797699024, 'recall': 0.33383837420343015, 'f1': 0.3330688680074996}\n",
      "train {'accuracy': 0.8921653227006279, 'precision': 0.8956181012802865, 'recall': 0.8887180021114672, 'f1': 0.8915846331291639}\n",
      "test {'accuracy': 0.3552490626673808, 'precision': 0.34038127541135926, 'recall': 0.347075101944846, 'f1': 0.34153199254980543}\n",
      "train {'accuracy': 0.891272651530931, 'precision': 0.8908445980136728, 'recall': 0.889122702977622, 'f1': 0.889852662217735}\n",
      "test {'accuracy': 0.23754686663095875, 'precision': 0.24056744087589135, 'recall': 0.2325731545537444, 'f1': 0.23471978810339056}\n",
      "train {'accuracy': 0.8837444579998215, 'precision': 0.8816226320105689, 'recall': 0.8782965319961837, 'f1': 0.8797615981776002}\n",
      "test {'accuracy': 0.22308516336368506, 'precision': 0.20488019890860068, 'recall': 0.20937961270906552, 'f1': 0.20142007422028466}\n",
      "train {'accuracy': 0.8958699080548695, 'precision': 0.8947946208204551, 'recall': 0.8933623292192856, 'f1': 0.8939662025737164}\n",
      "test {'accuracy': 0.3119978575254419, 'precision': 0.30070736351527466, 'recall': 0.29664775324461456, 'f1': 0.29673382839740364}\n",
      "train {'accuracy': 0.8917041092629512, 'precision': 0.8964998043015644, 'recall': 0.8889389471015396, 'f1': 0.8917679585119419}\n",
      "test {'accuracy': 0.3675682913765399, 'precision': 0.35954591183070717, 'recall': 0.3423205359340863, 'f1': 0.33160942450735365}\n",
      "train {'accuracy': 0.8972684262207278, 'precision': 0.9024938708046633, 'recall': 0.8935532460505857, 'f1': 0.8970626139920865}\n",
      "test {'accuracy': 0.41322978039635777, 'precision': 0.38952443307310114, 'recall': 0.3895257307074975, 'f1': 0.3854413939496998}\n"
     ]
    }
   ],
   "source": []
  },
  {
   "cell_type": "markdown",
   "id": "66e2af05-37d6-4558-89e9-ccebad5755f9",
   "metadata": {},
   "source": [
    "**TODO 6.1.4** Wywołaj funkcję ```cross_validate()``` i odczytaj wyniki"
   ]
  },
  {
   "cell_type": "code",
   "execution_count": 70,
   "id": "bfd08e80-b16a-485c-841e-73e7c8708783",
   "metadata": {},
   "outputs": [],
   "source": [
    "pipeline = Pipeline([('vect', CountVectorizer()), ('cls', SGDClassifier(loss='perceptron', penalty='l2', alpha=1e-3))])\n",
    "results_ref = cross_validate.remote(...)"
   ]
  },
  {
   "cell_type": "code",
   "execution_count": null,
   "id": "19cdfb4f-6b2c-4c92-97fb-32349dc7c516",
   "metadata": {},
   "outputs": [],
   "source": []
  },
  {
   "cell_type": "code",
   "execution_count": 73,
   "id": "180d82eb-b90b-41cc-b256-379b323da0c6",
   "metadata": {},
   "outputs": [
    {
     "name": "stdout",
     "output_type": "stream",
     "text": [
      "train {'accuracy': 0.8846949250888965, 'precision': 0.8846290605183472, 'recall': 0.8828872550602964, 'f1': 0.883727923907619}\n",
      "test {'accuracy': 0.820591779354666, 'precision': 0.8188360732382993, 'recall': 0.8174282900994183, 'f1': 0.8180580391116251}\n",
      "train {'accuracy': 0.8583756118608007, 'precision': 0.8651693393852057, 'recall': 0.8542518808883283, 'f1': 0.8580901349317475}\n",
      "test {'accuracy': 0.8017137501673585, 'precision': 0.8079829294537665, 'recall': 0.7984933794779632, 'f1': 0.8010541446732996}\n",
      "train {'accuracy': 0.8842056714374982, 'precision': 0.8880867467548912, 'recall': 0.8801254121207385, 'f1': 0.8835736347351826}\n",
      "test {'accuracy': 0.8237814675950723, 'precision': 0.825617786981492, 'recall': 0.8182157297863012, 'f1': 0.8209939372929492}\n",
      "train {'accuracy': 0.8872109977088106, 'precision': 0.8874969448649753, 'recall': 0.8859597363666855, 'f1': 0.8862495566373111}\n",
      "test {'accuracy': 0.8319496518478843, 'precision': 0.8322173412011109, 'recall': 0.8304338894393799, 'f1': 0.8306049187519489}\n",
      "train {'accuracy': 0.8726753354955813, 'precision': 0.8686804557515146, 'recall': 0.870867922755022, 'f1': 0.8693394099114702}\n",
      "test {'accuracy': 0.8152115693626139, 'precision': 0.8087246205102852, 'recall': 0.8116313878939628, 'f1': 0.8091056302162278}\n",
      "train {'accuracy': 0.8834766566489124, 'precision': 0.8835629073507902, 'recall': 0.8821125722861631, 'f1': 0.8824215204938932}\n",
      "test {'accuracy': 0.8239153722549545, 'precision': 0.820882845256225, 'recall': 0.8184120573057232, 'f1': 0.8191075103599776}\n",
      "train {'accuracy': 0.8710685273901271, 'precision': 0.8712378194300132, 'recall': 0.8715026126816812, 'f1': 0.8703102623631516}\n",
      "test {'accuracy': 0.8128012854847348, 'precision': 0.8118252809172324, 'recall': 0.8118194752362231, 'f1': 0.8104735186927741}\n",
      "train {'accuracy': 0.8837295801469932, 'precision': 0.8880895024635189, 'recall': 0.879335848077537, 'f1': 0.8827944490859502}\n",
      "test {'accuracy': 0.8196304231387253, 'precision': 0.8253943365051223, 'recall': 0.8117961277344077, 'f1': 0.8164995492972975}\n",
      "train {'accuracy': 0.8808432766983069, 'precision': 0.881413110865165, 'recall': 0.8791535569661157, 'f1': 0.8801041994367756}\n",
      "test {'accuracy': 0.8142742367434387, 'precision': 0.8126192619835066, 'recall': 0.8119598300840067, 'f1': 0.8120232896776338}\n",
      "train {'accuracy': 0.8857083345731545, 'precision': 0.8837552474586025, 'recall': 0.8855953411485685, 'f1': 0.8843673996098713}\n",
      "test {'accuracy': 0.8193626138189609, 'precision': 0.8155687818480672, 'recall': 0.8190913729864198, 'f1': 0.8169212083997269}\n"
     ]
    }
   ],
   "source": []
  },
  {
   "cell_type": "markdown",
   "id": "602872ef-49ab-47d3-a300-409f6c8a84b7",
   "metadata": {},
   "source": [
    "## 7. Modele dla Entity "
   ]
  },
  {
   "cell_type": "markdown",
   "id": "10e02a08-619f-4a21-a2cd-8f44ca1aff1b",
   "metadata": {},
   "source": [
    "Spróbujemy zbudować indywidaualne klasyfikatory dla ocenianych obiektów *Entity*"
   ]
  },
  {
   "cell_type": "code",
   "execution_count": 74,
   "id": "426ccba3-9155-44a2-ba7f-fd852194a9b4",
   "metadata": {},
   "outputs": [
    {
     "data": {
      "text/plain": [
       "array(['Borderlands', 'CallOfDutyBlackopsColdWar', 'Amazon', 'Overwatch',\n",
       "       'Xbox(Xseries)', 'NBA2K', 'Dota2', 'PlayStation5(PS5)',\n",
       "       'WorldOfCraft', 'CS-GO', 'Google', 'AssassinsCreed', 'ApexLegends',\n",
       "       'LeagueOfLegends', 'Fortnite', 'Microsoft', 'Hearthstone',\n",
       "       'Battlefield', 'PlayerUnknownsBattlegrounds(PUBG)', 'Verizon',\n",
       "       'HomeDepot', 'FIFA', 'RedDeadRedemption(RDR)', 'CallOfDuty',\n",
       "       'TomClancysRainbowSix', 'Facebook', 'GrandTheftAuto(GTA)',\n",
       "       'MaddenNFL', 'johnson&johnson', 'Cyberpunk2077',\n",
       "       'TomClancysGhostRecon', 'Nvidia'], dtype=object)"
      ]
     },
     "execution_count": 74,
     "metadata": {},
     "output_type": "execute_result"
    }
   ],
   "source": [
    "df_train.Entity.unique()"
   ]
  },
  {
   "cell_type": "markdown",
   "id": "8f1f3e6f-b53f-4425-a123-d71aac59ba1e",
   "metadata": {},
   "source": [
    "**TODO 7.1.1** W petli po podzbiorach danych:\n",
    "* utwórz Pipeline\n",
    "* wywołaj funkcję ```train_and_test()```\n",
    "* umieść wyniki (classification_report) w słowniku konwerując nazwę obiektu na małe litery\n",
    "* wyświetl wyniki dla testów"
   ]
  },
  {
   "cell_type": "code",
   "execution_count": 75,
   "id": "1aa41759-87ae-49fb-a632-cda70c951b97",
   "metadata": {},
   "outputs": [],
   "source": [
    "from sklearn.feature_extraction.text import CountVectorizer, TfidfVectorizer\n",
    "from sklearn.naive_bayes import MultinomialNB\n",
    "from sklearn.pipeline import Pipeline\n",
    "from sklearn.linear_model import SGDClassifier\n",
    "\n",
    "results={}    \n",
    "for ent in df_train.Entity.unique():\n",
    "    ..."
   ]
  },
  {
   "cell_type": "code",
   "execution_count": 76,
   "id": "8b050145-7392-4b2a-ac40-7f400e8b5613",
   "metadata": {},
   "outputs": [
    {
     "name": "stdout",
     "output_type": "stream",
     "text": [
      "-------------- borderlands ------------\n",
      "              precision    recall  f1-score   support\n",
      "\n",
      "  Irrelevant       1.00      0.97      0.98       240\n",
      "    Negative       1.00      0.97      0.98       426\n",
      "     Neutral       0.98      0.97      0.98       600\n",
      "    Positive       0.97      1.00      0.98      1020\n",
      "\n",
      "    accuracy                           0.98      2286\n",
      "   macro avg       0.99      0.98      0.98      2286\n",
      "weighted avg       0.98      0.98      0.98      2286\n",
      "\n",
      "-------------- callofdutyblackopscoldwar ------------\n",
      "              precision    recall  f1-score   support\n",
      "\n",
      "  Irrelevant       0.91      0.97      0.94       576\n",
      "    Negative       0.98      0.95      0.97       576\n",
      "     Neutral       0.99      0.93      0.96       360\n",
      "    Positive       0.98      0.98      0.98       864\n",
      "\n",
      "    accuracy                           0.96      2376\n",
      "   macro avg       0.96      0.96      0.96      2376\n",
      "weighted avg       0.96      0.96      0.96      2376\n",
      "\n",
      "-------------- amazon ------------\n",
      "              precision    recall  f1-score   support\n",
      "\n",
      "  Irrelevant       0.95      0.95      0.95       192\n",
      "    Negative       1.00      0.99      0.99       576\n",
      "     Neutral       0.98      0.99      0.99      1236\n",
      "    Positive       1.00      0.97      0.98       312\n",
      "\n",
      "    accuracy                           0.98      2316\n",
      "   macro avg       0.98      0.97      0.98      2316\n",
      "weighted avg       0.98      0.98      0.98      2316\n",
      "\n",
      "-------------- overwatch ------------\n",
      "              precision    recall  f1-score   support\n",
      "\n",
      "  Irrelevant       1.00      0.97      0.98       672\n",
      "    Negative       0.92      1.00      0.96       630\n",
      "     Neutral       0.99      0.93      0.96       300\n",
      "    Positive       0.99      0.97      0.98       732\n",
      "\n",
      "    accuracy                           0.97      2334\n",
      "   macro avg       0.97      0.97      0.97      2334\n",
      "weighted avg       0.97      0.97      0.97      2334\n",
      "\n",
      "-------------- xbox(xseries) ------------\n",
      "              precision    recall  f1-score   support\n",
      "\n",
      "  Irrelevant       0.95      0.97      0.96       750\n",
      "    Negative       0.99      0.97      0.98       378\n",
      "     Neutral       1.00      0.97      0.99       414\n",
      "    Positive       0.97      0.98      0.98       792\n",
      "\n",
      "    accuracy                           0.97      2334\n",
      "   macro avg       0.98      0.97      0.98      2334\n",
      "weighted avg       0.97      0.97      0.97      2334\n",
      "\n",
      "-------------- nba2k ------------\n",
      "              precision    recall  f1-score   support\n",
      "\n",
      "  Irrelevant       1.00      0.98      0.99       180\n",
      "    Negative       0.99      0.98      0.99      1476\n",
      "     Neutral       1.00      0.95      0.97       270\n",
      "    Positive       0.92      0.99      0.96       426\n",
      "\n",
      "    accuracy                           0.98      2352\n",
      "   macro avg       0.98      0.98      0.98      2352\n",
      "weighted avg       0.98      0.98      0.98      2352\n",
      "\n",
      "-------------- dota2 ------------\n",
      "              precision    recall  f1-score   support\n",
      "\n",
      "  Irrelevant       1.00      0.99      0.99       426\n",
      "    Negative       0.99      0.98      0.99       768\n",
      "     Neutral       1.00      0.99      0.99       588\n",
      "    Positive       0.97      1.00      0.98       582\n",
      "\n",
      "    accuracy                           0.99      2364\n",
      "   macro avg       0.99      0.99      0.99      2364\n",
      "weighted avg       0.99      0.99      0.99      2364\n",
      "\n",
      "-------------- playstation5(ps5) ------------\n",
      "              precision    recall  f1-score   support\n",
      "\n",
      "  Irrelevant       1.00      0.97      0.98       396\n",
      "    Negative       0.98      0.96      0.97       456\n",
      "     Neutral       0.99      0.93      0.96       516\n",
      "    Positive       0.94      0.99      0.97       942\n",
      "\n",
      "    accuracy                           0.97      2310\n",
      "   macro avg       0.98      0.96      0.97      2310\n",
      "weighted avg       0.97      0.97      0.97      2310\n",
      "\n",
      "-------------- worldofcraft ------------\n",
      "              precision    recall  f1-score   support\n",
      "\n",
      "  Irrelevant       1.00      0.99      1.00       216\n",
      "    Negative       1.00      0.96      0.98       342\n",
      "     Neutral       0.99      1.00      0.99      1068\n",
      "    Positive       0.99      0.99      0.99       738\n",
      "\n",
      "    accuracy                           0.99      2364\n",
      "   macro avg       0.99      0.99      0.99      2364\n",
      "weighted avg       0.99      0.99      0.99      2364\n",
      "\n",
      "-------------- cs-go ------------\n",
      "              precision    recall  f1-score   support\n",
      "\n",
      "  Irrelevant       1.00      0.97      0.98       636\n",
      "    Negative       1.00      0.95      0.97       348\n",
      "     Neutral       0.98      0.96      0.97       552\n",
      "    Positive       0.93      0.99      0.96       768\n",
      "\n",
      "    accuracy                           0.97      2304\n",
      "   macro avg       0.98      0.97      0.97      2304\n",
      "weighted avg       0.97      0.97      0.97      2304\n",
      "\n",
      "-------------- google ------------\n",
      "              precision    recall  f1-score   support\n",
      "\n",
      "  Irrelevant       0.99      0.96      0.98       522\n",
      "    Negative       1.00      0.98      0.99       594\n",
      "     Neutral       0.95      1.00      0.97       822\n",
      "    Positive       1.00      0.96      0.98       360\n",
      "\n",
      "    accuracy                           0.98      2298\n",
      "   macro avg       0.99      0.98      0.98      2298\n",
      "weighted avg       0.98      0.98      0.98      2298\n",
      "\n",
      "-------------- assassinscreed ------------\n",
      "              precision    recall  f1-score   support\n",
      "\n",
      "  Irrelevant       1.00      0.99      0.99       264\n",
      "    Negative       1.00      0.97      0.99       378\n",
      "     Neutral       1.00      0.98      0.99       156\n",
      "    Positive       0.99      1.00      0.99      1446\n",
      "\n",
      "    accuracy                           0.99      2244\n",
      "   macro avg       1.00      0.99      0.99      2244\n",
      "weighted avg       0.99      0.99      0.99      2244\n",
      "\n",
      "-------------- apexlegends ------------\n",
      "              precision    recall  f1-score   support\n",
      "\n",
      "  Irrelevant       0.99      0.99      0.99       192\n",
      "    Negative       1.00      0.94      0.97       600\n",
      "     Neutral       0.95      0.99      0.97       942\n",
      "    Positive       0.97      0.97      0.97       642\n",
      "\n",
      "    accuracy                           0.97      2376\n",
      "   macro avg       0.98      0.97      0.98      2376\n",
      "weighted avg       0.97      0.97      0.97      2376\n",
      "\n",
      "-------------- leagueoflegends ------------\n",
      "              precision    recall  f1-score   support\n",
      "\n",
      "  Irrelevant       1.00      0.98      0.99       312\n",
      "    Negative       0.98      0.96      0.97       642\n",
      "     Neutral       0.95      0.99      0.97       822\n",
      "    Positive       0.99      0.97      0.98       618\n",
      "\n",
      "    accuracy                           0.98      2394\n",
      "   macro avg       0.98      0.97      0.98      2394\n",
      "weighted avg       0.98      0.98      0.98      2394\n",
      "\n",
      "-------------- fortnite ------------\n",
      "              precision    recall  f1-score   support\n",
      "\n",
      "  Irrelevant       0.99      0.98      0.99       840\n",
      "    Negative       0.99      0.97      0.98       702\n",
      "     Neutral       1.00      0.91      0.95       168\n",
      "    Positive       0.93      0.99      0.96       564\n",
      "\n",
      "    accuracy                           0.98      2274\n",
      "   macro avg       0.98      0.97      0.97      2274\n",
      "weighted avg       0.98      0.98      0.98      2274\n",
      "\n",
      "-------------- microsoft ------------\n",
      "              precision    recall  f1-score   support\n",
      "\n",
      "  Irrelevant       0.92      0.95      0.93       174\n",
      "    Negative       0.99      0.96      0.98       774\n",
      "     Neutral       0.96      0.98      0.97       846\n",
      "    Positive       0.98      0.98      0.98       606\n",
      "\n",
      "    accuracy                           0.97      2400\n",
      "   macro avg       0.96      0.97      0.96      2400\n",
      "weighted avg       0.97      0.97      0.97      2400\n",
      "\n",
      "-------------- hearthstone ------------\n",
      "              precision    recall  f1-score   support\n",
      "\n",
      "  Irrelevant       1.00      0.97      0.99       228\n",
      "    Negative       0.99      0.98      0.99       528\n",
      "     Neutral       0.99      0.96      0.97       708\n",
      "    Positive       0.96      0.99      0.97       834\n",
      "\n",
      "    accuracy                           0.98      2298\n",
      "   macro avg       0.98      0.98      0.98      2298\n",
      "weighted avg       0.98      0.98      0.98      2298\n",
      "\n",
      "-------------- battlefield ------------\n",
      "              precision    recall  f1-score   support\n",
      "\n",
      "  Irrelevant       1.00      0.98      0.99       918\n",
      "    Negative       0.99      0.96      0.97       474\n",
      "     Neutral       0.99      0.94      0.96       360\n",
      "    Positive       0.92      0.99      0.96       594\n",
      "\n",
      "    accuracy                           0.97      2346\n",
      "   macro avg       0.97      0.97      0.97      2346\n",
      "weighted avg       0.98      0.97      0.97      2346\n",
      "\n",
      "-------------- playerunknownsbattlegrounds(pubg) ------------\n",
      "              precision    recall  f1-score   support\n",
      "\n",
      "  Irrelevant       0.96      0.97      0.96       906\n",
      "    Negative       0.93      0.97      0.95       696\n",
      "     Neutral       1.00      0.95      0.97       264\n",
      "    Positive       1.00      0.92      0.96       408\n",
      "\n",
      "    accuracy                           0.96      2274\n",
      "   macro avg       0.97      0.95      0.96      2274\n",
      "weighted avg       0.96      0.96      0.96      2274\n",
      "\n",
      "-------------- verizon ------------\n",
      "              precision    recall  f1-score   support\n",
      "\n",
      "  Irrelevant       0.99      0.94      0.96       186\n",
      "    Negative       0.97      0.99      0.98      1098\n",
      "     Neutral       0.98      0.98      0.98       570\n",
      "    Positive       0.99      0.98      0.99       528\n",
      "\n",
      "    accuracy                           0.98      2382\n",
      "   macro avg       0.98      0.97      0.98      2382\n",
      "weighted avg       0.98      0.98      0.98      2382\n",
      "\n",
      "-------------- homedepot ------------\n",
      "              precision    recall  f1-score   support\n",
      "\n",
      "  Irrelevant       1.00      0.99      0.99       294\n",
      "    Negative       0.99      0.98      0.98       900\n",
      "     Neutral       1.00      0.97      0.98       336\n",
      "    Positive       0.96      0.99      0.98       780\n",
      "\n",
      "    accuracy                           0.98      2310\n",
      "   macro avg       0.99      0.98      0.98      2310\n",
      "weighted avg       0.98      0.98      0.98      2310\n",
      "\n",
      "-------------- fifa ------------\n",
      "              precision    recall  f1-score   support\n",
      "\n",
      "  Irrelevant       1.00      0.99      0.99       558\n",
      "    Negative       0.97      1.00      0.98      1176\n",
      "     Neutral       1.00      0.95      0.97       102\n",
      "    Positive       1.00      0.95      0.97       504\n",
      "\n",
      "    accuracy                           0.98      2340\n",
      "   macro avg       0.99      0.97      0.98      2340\n",
      "weighted avg       0.98      0.98      0.98      2340\n",
      "\n",
      "-------------- reddeadredemption(rdr) ------------\n",
      "              precision    recall  f1-score   support\n",
      "\n",
      "  Irrelevant       1.00      0.98      0.99       210\n",
      "    Negative       1.00      0.98      0.99       306\n",
      "     Neutral       0.97      0.99      0.98       816\n",
      "    Positive       0.99      0.98      0.98       930\n",
      "\n",
      "    accuracy                           0.98      2262\n",
      "   macro avg       0.99      0.98      0.99      2262\n",
      "weighted avg       0.99      0.98      0.98      2262\n",
      "\n",
      "-------------- callofduty ------------\n",
      "              precision    recall  f1-score   support\n",
      "\n",
      "  Irrelevant       1.00      0.99      0.99       672\n",
      "    Negative       0.97      0.99      0.98       894\n",
      "     Neutral       1.00      0.95      0.97       378\n",
      "    Positive       0.96      0.97      0.97       450\n",
      "\n",
      "    accuracy                           0.98      2394\n",
      "   macro avg       0.98      0.97      0.98      2394\n",
      "weighted avg       0.98      0.98      0.98      2394\n",
      "\n",
      "-------------- tomclancysrainbowsix ------------\n",
      "              precision    recall  f1-score   support\n",
      "\n",
      "  Irrelevant       0.90      0.98      0.94        96\n",
      "    Negative       1.00      0.96      0.98      1122\n",
      "     Neutral       0.95      0.96      0.95       654\n",
      "    Positive       0.93      0.97      0.95       528\n",
      "\n",
      "    accuracy                           0.96      2400\n",
      "   macro avg       0.94      0.97      0.95      2400\n",
      "weighted avg       0.96      0.96      0.96      2400\n",
      "\n",
      "-------------- facebook ------------\n",
      "              precision    recall  f1-score   support\n",
      "\n",
      "  Irrelevant       0.94      0.99      0.97       690\n",
      "    Negative       0.99      0.98      0.98       720\n",
      "     Neutral       1.00      0.98      0.99       786\n",
      "    Positive       1.00      0.91      0.95       174\n",
      "\n",
      "    accuracy                           0.98      2370\n",
      "   macro avg       0.98      0.97      0.97      2370\n",
      "weighted avg       0.98      0.98      0.98      2370\n",
      "\n",
      "-------------- grandtheftauto(gta) ------------\n",
      "              precision    recall  f1-score   support\n",
      "\n",
      "  Irrelevant       1.00      0.98      0.99       762\n",
      "    Negative       1.00      0.98      0.99       594\n",
      "     Neutral       0.93      0.99      0.96       324\n",
      "    Positive       0.99      0.98      0.98       624\n",
      "\n",
      "    accuracy                           0.98      2304\n",
      "   macro avg       0.98      0.99      0.98      2304\n",
      "weighted avg       0.99      0.98      0.98      2304\n",
      "\n",
      "-------------- maddennfl ------------\n",
      "              precision    recall  f1-score   support\n",
      "\n",
      "  Irrelevant       1.00      0.99      0.99        90\n",
      "    Negative       0.99      1.00      0.99      1710\n",
      "     Neutral       0.97      0.92      0.94       204\n",
      "    Positive       0.99      0.99      0.99       396\n",
      "\n",
      "    accuracy                           0.99      2400\n",
      "   macro avg       0.99      0.97      0.98      2400\n",
      "weighted avg       0.99      0.99      0.99      2400\n",
      "\n",
      "-------------- johnson&johnson ------------\n",
      "              precision    recall  f1-score   support\n",
      "\n",
      "  Irrelevant       1.00      0.98      0.99       198\n",
      "    Negative       0.96      1.00      0.98       846\n",
      "     Neutral       1.00      0.98      0.99      1014\n",
      "    Positive       1.00      0.97      0.98       270\n",
      "\n",
      "    accuracy                           0.98      2328\n",
      "   macro avg       0.99      0.98      0.99      2328\n",
      "weighted avg       0.99      0.98      0.99      2328\n",
      "\n",
      "-------------- cyberpunk2077 ------------\n",
      "              precision    recall  f1-score   support\n",
      "\n",
      "  Irrelevant       0.98      0.93      0.96       480\n",
      "    Negative       1.00      0.96      0.98       390\n",
      "     Neutral       1.00      0.97      0.98       468\n",
      "    Positive       0.94      1.00      0.97       966\n",
      "\n",
      "    accuracy                           0.97      2304\n",
      "   macro avg       0.98      0.96      0.97      2304\n",
      "weighted avg       0.97      0.97      0.97      2304\n",
      "\n",
      "-------------- tomclancysghostrecon ------------\n",
      "              precision    recall  f1-score   support\n",
      "\n",
      "  Irrelevant       1.00      1.00      1.00        24\n",
      "    Negative       0.99      0.97      0.98       900\n",
      "     Neutral       0.96      0.99      0.98       804\n",
      "    Positive       0.99      0.98      0.99       618\n",
      "\n",
      "    accuracy                           0.98      2346\n",
      "   macro avg       0.99      0.99      0.99      2346\n",
      "weighted avg       0.98      0.98      0.98      2346\n",
      "\n",
      "-------------- nvidia ------------\n",
      "              precision    recall  f1-score   support\n",
      "\n",
      "  Irrelevant       1.00      0.99      0.99        90\n",
      "    Negative       0.99      0.96      0.97       522\n",
      "     Neutral       1.00      0.98      0.99       870\n",
      "    Positive       0.95      1.00      0.97       816\n",
      "\n",
      "    accuracy                           0.98      2298\n",
      "   macro avg       0.98      0.98      0.98      2298\n",
      "weighted avg       0.98      0.98      0.98      2298\n",
      "\n"
     ]
    }
   ],
   "source": [
    "for k in results:\n",
    "    print(f'-------------- {k} ------------')\n",
    "    ..."
   ]
  },
  {
   "cell_type": "markdown",
   "id": "b421421f-f3b2-4846-a360-daa8f8e715d5",
   "metadata": {},
   "source": [
    "**TODO 7.1.2** Doaj jeszcze do słownika wyniki dla pełnego zbioru (pod kluczem ```*```)"
   ]
  },
  {
   "cell_type": "code",
   "execution_count": 77,
   "id": "66cc32b5-243a-4a2c-9516-d02cb51cefc4",
   "metadata": {},
   "outputs": [],
   "source": [
    "pipeline = Pipeline([('vect', CountVectorizer()), ('cls', SGDClassifier(loss='perceptron', penalty='l2', alpha=1e-3))])\n",
    "results['*'] = train_and_test.remote(df_train,df_test,pipeline,features_column='TweetContent', target_column='Sentiment', return_scores=False)"
   ]
  },
  {
   "cell_type": "markdown",
   "id": "7d4201b5-848c-4114-bd09-caeb9eaec7a7",
   "metadata": {},
   "source": [
    "**TODO 7.1.3** Wyekstrahuj z rezuultatów dwa słowniki: ```models```  z modelami oraz ```labels``` z etykietami.\n",
    "\n",
    "Etykiety występują zawsze w tej samej kolejności, ale to specyfika zbioru danych. Gdyby zastosować permutację, przed uczeniem, kolejność byłaby inna, więc *better save than sorry...*"
   ]
  },
  {
   "cell_type": "code",
   "execution_count": 78,
   "id": "4955f9e6-090d-4397-bdba-2056e850cd42",
   "metadata": {},
   "outputs": [
    {
     "data": {
      "text/plain": [
       "{'borderlands': Pipeline(steps=[('vect', CountVectorizer()),\n",
       "                 ('cls', SGDClassifier(alpha=0.001, loss='perceptron'))]),\n",
       " 'callofdutyblackopscoldwar': Pipeline(steps=[('vect', CountVectorizer()),\n",
       "                 ('cls', SGDClassifier(alpha=0.001, loss='perceptron'))]),\n",
       " 'amazon': Pipeline(steps=[('vect', CountVectorizer()),\n",
       "                 ('cls', SGDClassifier(alpha=0.001, loss='perceptron'))]),\n",
       " 'overwatch': Pipeline(steps=[('vect', CountVectorizer()),\n",
       "                 ('cls', SGDClassifier(alpha=0.001, loss='perceptron'))]),\n",
       " 'xbox(xseries)': Pipeline(steps=[('vect', CountVectorizer()),\n",
       "                 ('cls', SGDClassifier(alpha=0.001, loss='perceptron'))]),\n",
       " 'nba2k': Pipeline(steps=[('vect', CountVectorizer()),\n",
       "                 ('cls', SGDClassifier(alpha=0.001, loss='perceptron'))]),\n",
       " 'dota2': Pipeline(steps=[('vect', CountVectorizer()),\n",
       "                 ('cls', SGDClassifier(alpha=0.001, loss='perceptron'))]),\n",
       " 'playstation5(ps5)': Pipeline(steps=[('vect', CountVectorizer()),\n",
       "                 ('cls', SGDClassifier(alpha=0.001, loss='perceptron'))]),\n",
       " 'worldofcraft': Pipeline(steps=[('vect', CountVectorizer()),\n",
       "                 ('cls', SGDClassifier(alpha=0.001, loss='perceptron'))]),\n",
       " 'cs-go': Pipeline(steps=[('vect', CountVectorizer()),\n",
       "                 ('cls', SGDClassifier(alpha=0.001, loss='perceptron'))]),\n",
       " 'google': Pipeline(steps=[('vect', CountVectorizer()),\n",
       "                 ('cls', SGDClassifier(alpha=0.001, loss='perceptron'))]),\n",
       " 'assassinscreed': Pipeline(steps=[('vect', CountVectorizer()),\n",
       "                 ('cls', SGDClassifier(alpha=0.001, loss='perceptron'))]),\n",
       " 'apexlegends': Pipeline(steps=[('vect', CountVectorizer()),\n",
       "                 ('cls', SGDClassifier(alpha=0.001, loss='perceptron'))]),\n",
       " 'leagueoflegends': Pipeline(steps=[('vect', CountVectorizer()),\n",
       "                 ('cls', SGDClassifier(alpha=0.001, loss='perceptron'))]),\n",
       " 'fortnite': Pipeline(steps=[('vect', CountVectorizer()),\n",
       "                 ('cls', SGDClassifier(alpha=0.001, loss='perceptron'))]),\n",
       " 'microsoft': Pipeline(steps=[('vect', CountVectorizer()),\n",
       "                 ('cls', SGDClassifier(alpha=0.001, loss='perceptron'))]),\n",
       " 'hearthstone': Pipeline(steps=[('vect', CountVectorizer()),\n",
       "                 ('cls', SGDClassifier(alpha=0.001, loss='perceptron'))]),\n",
       " 'battlefield': Pipeline(steps=[('vect', CountVectorizer()),\n",
       "                 ('cls', SGDClassifier(alpha=0.001, loss='perceptron'))]),\n",
       " 'playerunknownsbattlegrounds(pubg)': Pipeline(steps=[('vect', CountVectorizer()),\n",
       "                 ('cls', SGDClassifier(alpha=0.001, loss='perceptron'))]),\n",
       " 'verizon': Pipeline(steps=[('vect', CountVectorizer()),\n",
       "                 ('cls', SGDClassifier(alpha=0.001, loss='perceptron'))]),\n",
       " 'homedepot': Pipeline(steps=[('vect', CountVectorizer()),\n",
       "                 ('cls', SGDClassifier(alpha=0.001, loss='perceptron'))]),\n",
       " 'fifa': Pipeline(steps=[('vect', CountVectorizer()),\n",
       "                 ('cls', SGDClassifier(alpha=0.001, loss='perceptron'))]),\n",
       " 'reddeadredemption(rdr)': Pipeline(steps=[('vect', CountVectorizer()),\n",
       "                 ('cls', SGDClassifier(alpha=0.001, loss='perceptron'))]),\n",
       " 'callofduty': Pipeline(steps=[('vect', CountVectorizer()),\n",
       "                 ('cls', SGDClassifier(alpha=0.001, loss='perceptron'))]),\n",
       " 'tomclancysrainbowsix': Pipeline(steps=[('vect', CountVectorizer()),\n",
       "                 ('cls', SGDClassifier(alpha=0.001, loss='perceptron'))]),\n",
       " 'facebook': Pipeline(steps=[('vect', CountVectorizer()),\n",
       "                 ('cls', SGDClassifier(alpha=0.001, loss='perceptron'))]),\n",
       " 'grandtheftauto(gta)': Pipeline(steps=[('vect', CountVectorizer()),\n",
       "                 ('cls', SGDClassifier(alpha=0.001, loss='perceptron'))]),\n",
       " 'maddennfl': Pipeline(steps=[('vect', CountVectorizer()),\n",
       "                 ('cls', SGDClassifier(alpha=0.001, loss='perceptron'))]),\n",
       " 'johnson&johnson': Pipeline(steps=[('vect', CountVectorizer()),\n",
       "                 ('cls', SGDClassifier(alpha=0.001, loss='perceptron'))]),\n",
       " 'cyberpunk2077': Pipeline(steps=[('vect', CountVectorizer()),\n",
       "                 ('cls', SGDClassifier(alpha=0.001, loss='perceptron'))]),\n",
       " 'tomclancysghostrecon': Pipeline(steps=[('vect', CountVectorizer()),\n",
       "                 ('cls', SGDClassifier(alpha=0.001, loss='perceptron'))]),\n",
       " 'nvidia': Pipeline(steps=[('vect', CountVectorizer()),\n",
       "                 ('cls', SGDClassifier(alpha=0.001, loss='perceptron'))]),\n",
       " '*': Pipeline(steps=[('vect', CountVectorizer()),\n",
       "                 ('cls', SGDClassifier(alpha=0.001, loss='perceptron'))])}"
      ]
     },
     "execution_count": 78,
     "metadata": {},
     "output_type": "execute_result"
    }
   ],
   "source": [
    "models = ???\n",
    "models"
   ]
  },
  {
   "cell_type": "code",
   "execution_count": 79,
   "id": "c64be41e-6eef-469b-92be-4b75e82c2cf3",
   "metadata": {},
   "outputs": [
    {
     "data": {
      "text/plain": [
       "{'borderlands': array(['Irrelevant', 'Negative', 'Neutral', 'Positive'], dtype=object),\n",
       " 'callofdutyblackopscoldwar': array(['Irrelevant', 'Negative', 'Neutral', 'Positive'], dtype=object),\n",
       " 'amazon': array(['Irrelevant', 'Negative', 'Neutral', 'Positive'], dtype=object),\n",
       " 'overwatch': array(['Irrelevant', 'Negative', 'Neutral', 'Positive'], dtype=object),\n",
       " 'xbox(xseries)': array(['Irrelevant', 'Negative', 'Neutral', 'Positive'], dtype=object),\n",
       " 'nba2k': array(['Irrelevant', 'Negative', 'Neutral', 'Positive'], dtype=object),\n",
       " 'dota2': array(['Irrelevant', 'Negative', 'Neutral', 'Positive'], dtype=object),\n",
       " 'playstation5(ps5)': array(['Irrelevant', 'Negative', 'Neutral', 'Positive'], dtype=object),\n",
       " 'worldofcraft': array(['Irrelevant', 'Negative', 'Neutral', 'Positive'], dtype=object),\n",
       " 'cs-go': array(['Irrelevant', 'Negative', 'Neutral', 'Positive'], dtype=object),\n",
       " 'google': array(['Irrelevant', 'Negative', 'Neutral', 'Positive'], dtype=object),\n",
       " 'assassinscreed': array(['Irrelevant', 'Negative', 'Neutral', 'Positive'], dtype=object),\n",
       " 'apexlegends': array(['Irrelevant', 'Negative', 'Neutral', 'Positive'], dtype=object),\n",
       " 'leagueoflegends': array(['Irrelevant', 'Negative', 'Neutral', 'Positive'], dtype=object),\n",
       " 'fortnite': array(['Irrelevant', 'Negative', 'Neutral', 'Positive'], dtype=object),\n",
       " 'microsoft': array(['Irrelevant', 'Negative', 'Neutral', 'Positive'], dtype=object),\n",
       " 'hearthstone': array(['Irrelevant', 'Negative', 'Neutral', 'Positive'], dtype=object),\n",
       " 'battlefield': array(['Irrelevant', 'Negative', 'Neutral', 'Positive'], dtype=object),\n",
       " 'playerunknownsbattlegrounds(pubg)': array(['Irrelevant', 'Negative', 'Neutral', 'Positive'], dtype=object),\n",
       " 'verizon': array(['Irrelevant', 'Negative', 'Neutral', 'Positive'], dtype=object),\n",
       " 'homedepot': array(['Irrelevant', 'Negative', 'Neutral', 'Positive'], dtype=object),\n",
       " 'fifa': array(['Irrelevant', 'Negative', 'Neutral', 'Positive'], dtype=object),\n",
       " 'reddeadredemption(rdr)': array(['Irrelevant', 'Negative', 'Neutral', 'Positive'], dtype=object),\n",
       " 'callofduty': array(['Irrelevant', 'Negative', 'Neutral', 'Positive'], dtype=object),\n",
       " 'tomclancysrainbowsix': array(['Irrelevant', 'Negative', 'Neutral', 'Positive'], dtype=object),\n",
       " 'facebook': array(['Irrelevant', 'Negative', 'Neutral', 'Positive'], dtype=object),\n",
       " 'grandtheftauto(gta)': array(['Irrelevant', 'Negative', 'Neutral', 'Positive'], dtype=object),\n",
       " 'maddennfl': array(['Irrelevant', 'Negative', 'Neutral', 'Positive'], dtype=object),\n",
       " 'johnson&johnson': array(['Irrelevant', 'Negative', 'Neutral', 'Positive'], dtype=object),\n",
       " 'cyberpunk2077': array(['Irrelevant', 'Negative', 'Neutral', 'Positive'], dtype=object),\n",
       " 'tomclancysghostrecon': array(['Irrelevant', 'Negative', 'Neutral', 'Positive'], dtype=object),\n",
       " 'nvidia': array(['Irrelevant', 'Negative', 'Neutral', 'Positive'], dtype=object),\n",
       " '*': array(['Irrelevant', 'Negative', 'Neutral', 'Positive'], dtype=object)}"
      ]
     },
     "execution_count": 79,
     "metadata": {},
     "output_type": "execute_result"
    }
   ],
   "source": [
    "labels = ???\n",
    "labels"
   ]
  },
  {
   "cell_type": "markdown",
   "id": "a623d3b1-1a40-4ec8-91be-043bda1dbc4a",
   "metadata": {},
   "source": [
    "Poniższa funkcja dokonuje klasyfikacji tekstu dla danego typu obiektu (entity). Jesli nie zostanie znaleziony, stosuje klucz ```*```\n",
    "\n",
    "Wypróbuj jej działanie wpisując rózne wartości..."
   ]
  },
  {
   "cell_type": "code",
   "execution_count": 80,
   "id": "833e7adf-a226-4683-864b-0771c35c5ae3",
   "metadata": {},
   "outputs": [
    {
     "data": {
      "text/plain": [
       "'Irrelevant'"
      ]
     },
     "execution_count": 80,
     "metadata": {},
     "output_type": "execute_result"
    }
   ],
   "source": [
    "def classify(models,labels,ent,text):\n",
    "    k = ent.lower()\n",
    "    if not k in models:\n",
    "        k = '*'\n",
    "    y_pred =  models[k].predict([text])\n",
    "    return labels[k][y_pred[0]]\n",
    "    \n",
    "classify(models,labels,'*','low energy card')"
   ]
  },
  {
   "cell_type": "code",
   "execution_count": 81,
   "id": "3fdb88cd-741c-44ca-b383-fadc6f375d0a",
   "metadata": {},
   "outputs": [
    {
     "data": {
      "text/plain": [
       "'Positive'"
      ]
     },
     "execution_count": 81,
     "metadata": {},
     "output_type": "execute_result"
    }
   ],
   "source": [
    "classify(models,labels,'nvidia','low energy card')"
   ]
  },
  {
   "cell_type": "markdown",
   "id": "8120d9dc-ddb1-42a1-8e5e-e01a9b993e68",
   "metadata": {},
   "source": [
    "## 8. Ray serve"
   ]
  },
  {
   "cell_type": "markdown",
   "id": "1feb4bd8-0280-4072-8ee8-bf24c0b06b8f",
   "metadata": {},
   "source": [
    "Ray Serve to framework do zarządzania mikrousługami, który został stworzony na platformie Ray. Pozwala on na łatwe tworzenie, wdrażanie i skalowanie aplikacji opartych na mikrousługach. \n",
    "\n",
    "Cechy:\n",
    "\n",
    "* **Prostota użycia:** Ray Serve zapewnia proste API do definiowania i wdrażania mikrousług. Programiści mogą definiować obsługę żądań za pomocą zwykłych funkcji Pythona.\n",
    "* **Elastyczność i skalowalność:** Ray Serve automatycznie zarządza skalowaniem i równoważeniem obciążenia mikrousług, co umożliwia obsługę wysokiego obciążenia aplikacji.\n",
    "* **Obsługa wielu typów modeli:** Ray Serve obsługuje wiele rodzajów modeli, w tym modele oparte na frameworkach uczenia maszynowego, takich jak TensorFlow, PyTorch czy Scikit-learn.\n",
    "* **Obsługa wielu typów interfejsów:** Obsługuje różne interfejsy API, takie jak REST, gRPC, HTTP oraz in-memory Python API, co umożliwia łatwe integrowanie z różnymi typami aplikacji.\n",
    "* **Rozproszenie i równoległość:** Dzięki wykorzystaniu platformy Ray, Ray Serve oferuje wbudowane wsparcie dla równoległego przetwarzania i rozproszenia, co pozwala na obsługę wysokich obciążeń i dużych ilości danych."
   ]
  },
  {
   "cell_type": "code",
   "execution_count": 82,
   "id": "9844ba67-0d88-4125-9d06-ac309e258da3",
   "metadata": {},
   "outputs": [],
   "source": [
    "from ray import serve\n",
    "# serve.shutdown()\n",
    "serve.start(http_options={'host':'0.0.0.0','port':8000})"
   ]
  },
  {
   "cell_type": "markdown",
   "id": "4eee970f-a985-45e6-af89-c76bdd3b273e",
   "metadata": {},
   "source": [
    "### 8.1 Przykład wdrożenia mikrousługi"
   ]
  },
  {
   "cell_type": "markdown",
   "id": "5049413a-a204-4d30-bd17-7c041b0da15f",
   "metadata": {},
   "source": [
    "Pokazemy prosty przykład usług REST. Dzięki (opcjonalnej) integracji z FastApi możliwe będzie wywołanie poprzez interfejs *Swagger*"
   ]
  },
  {
   "cell_type": "code",
   "execution_count": null,
   "id": "1dc335bb-1478-488d-b17c-60a6fe1adcad",
   "metadata": {},
   "outputs": [],
   "source": [
    "import requests\n",
    "from fastapi import FastAPI\n",
    "from ray import serve\n",
    "# import uvicorn\n",
    "\n",
    "# 1: Define a FastAPI app and wrap it in a deployment with a route handler.\n",
    "app = FastAPI()\n",
    "\n",
    "\n",
    "@serve.deployment\n",
    "@serve.ingress(app)\n",
    "class FastAPIDeployment:\n",
    "    # FastAPI will automatically parse the HTTP request for us.\n",
    "    @app.get(\"/hello\")\n",
    "    def say_hello(self, firstname: str, surname: str) -> str:\n",
    "        return f\"Hello {firstname} {surname}!\"\n",
    "\n",
    "\n",
    "# 2: Deploy the deployment.\n",
    "# serve.shutdown()\n",
    "# serve.start(http_options={'host':'0.0.0.0','port':8000})\n",
    "serve.run(FastAPIDeployment.bind(), route_prefix=\"/\")\n",
    "\n",
    "# otwórz http://localhost:8000/docs"
   ]
  },
  {
   "cell_type": "code",
   "execution_count": null,
   "id": "0ab9afeb-5167-4527-8b0a-c85625b79157",
   "metadata": {},
   "outputs": [],
   "source": [
    "print(requests.get(\"http://0.0.0.0:8000/hello\", params={\"firstname\": \"Jan\",'surname':'Kowalski'}).text)"
   ]
  },
  {
   "attachments": {
    "1b5ffc35-24bc-4e4e-ae8a-6a3e8c56a6d6.png": {
     "image/png": "[encoded data removed]"
    }
   },
   "cell_type": "markdown",
   "id": "af326aff-fe58-41d9-9c03-128bb1449b5b",
   "metadata": {},
   "source": [
    "Otwórz stronę http://localhost:8000/docs#/default/say_hello_hello_get i wypróbuj serwis\n",
    "\n",
    "![image.png](attachment:1b5ffc35-24bc-4e4e-ae8a-6a3e8c56a6d6.png)"
   ]
  },
  {
   "cell_type": "markdown",
   "id": "f5367409-a220-43dd-b062-478d113bf5a2",
   "metadata": {},
   "source": [
    "Otwórz stronę http://localhost:8000/docs#/default/say_hello_hello_get i wypróbuj serwis"
   ]
  },
  {
   "cell_type": "markdown",
   "id": "6cca5f50-2538-472b-8d53-0ef338519c29",
   "metadata": {},
   "source": [
    "### 8.2 Wdrożenie zbudowanego zbioru modeli jako mikroserwis"
   ]
  },
  {
   "cell_type": "markdown",
   "id": "40ff791a-6693-41da-a929-02fb3cce1165",
   "metadata": {},
   "source": [
    "**TODO 8.2.1** zaimplementuj klasę ```ClassifierDeployment```\n",
    "* W konstruktorze przekaż słowniki z modelami i etykietami\n",
    "* Zaimplementuj metodę ```calssify`` zgodnie ze specyfikacją"
   ]
  },
  {
   "cell_type": "code",
   "execution_count": null,
   "id": "fe958811-08fb-493e-83e4-95a5c2792e92",
   "metadata": {},
   "outputs": [],
   "source": [
    "import requests\n",
    "from fastapi import FastAPI\n",
    "from ray import serve\n",
    "# import uvicorn\n",
    "\n",
    "# 1: Define a FastAPI app and wrap it in a deployment with a route handler.\n",
    "app = FastAPI()\n",
    "\n",
    "\n",
    "@serve.deployment\n",
    "@serve.ingress(app)\n",
    "class ClassifierDeployment:\n",
    "    \n",
    "    def __init__(self,models,labels):\n",
    "       \n",
    "        \n",
    "    # FastAPI will automatically parse the HTTP request for us.\n",
    "    @app.get(\"/classify\")\n",
    "    def classify(self, entity: str, text: str) -> str:\n",
    "        \"\"\"\n",
    "        Params: entity:str nazwa obiektu\n",
    "                text: treść wypowiedzi do sklasyfikowania\n",
    "        Returns: \n",
    "                tekstową etykietę (Irrevelant, Positive, Neutral, Negative)\n",
    "        \n",
    "        \"\"\"\n",
    "        \n",
    "\n",
    "\n",
    "# 2: Deploy the deployment.\n",
    "\n",
    "app = ClassifierDeployment.bind(????)\n",
    "serve.run(app, route_prefix=\"/\")"
   ]
  },
  {
   "cell_type": "markdown",
   "id": "be74887c-19cd-4560-957e-9cd3d35bd1ef",
   "metadata": {},
   "source": [
    "Wyświetlimy przykładowe wypowiedzi"
   ]
  },
  {
   "cell_type": "code",
   "execution_count": null,
   "id": "9600c6b4-67a3-49ac-915d-608c0b21d267",
   "metadata": {},
   "outputs": [],
   "source": [
    "ds_train.filter(lambda row:row['Entity']=='Nvidia').random_shuffle(seed=1).to_pandas().head(20)"
   ]
  },
  {
   "cell_type": "markdown",
   "id": "76bbafb0-65b0-4963-878d-cca6c72a30c9",
   "metadata": {},
   "source": [
    "**TODO 8.2.2** Zamieśc kilka przykładowych wywołań mikroserwisu"
   ]
  },
  {
   "cell_type": "code",
   "execution_count": 87,
   "id": "d397ae9e-f760-432c-82a8-0864b058c128",
   "metadata": {},
   "outputs": [
    {
     "name": "stdout",
     "output_type": "stream",
     "text": [
      "Negative\n"
     ]
    }
   ],
   "source": [
    "print(requests.get(\"http://0.0.0.0:8000/classify\", params={\"entity\": \"nvidia\",'text':'so like, is there even a single game where'}).json())"
   ]
  },
  {
   "attachments": {
    "7a74064a-fc70-4038-89ec-5cb1220d726a.png": {
     "image/png": "[encoded data removed]"
    },
    "c2c5ee0b-2fad-4862-8524-ab82ca1c9653.png": {
     "image/png": "[encoded data removed]"
    }
   },
   "cell_type": "markdown",
   "id": "324b56f1-b935-4663-9831-e92b02db55c1",
   "metadata": {},
   "source": [
    "**TODO 8.2.3** Powtórz wywołanie w intefejsie Swaggera. Możesz wkleić bezpośrednio zrzuty ekranu\n",
    "\n",
    "![image.png](attachment:c2c5ee0b-2fad-4862-8524-ab82ca1c9653.png)\n",
    "\n",
    "![image.png](attachment:7a74064a-fc70-4038-89ec-5cb1220d726a.png)\n"
   ]
  }
 ],
 "metadata": {
  "kernelspec": {
   "display_name": "Python 3 (ipykernel)",
   "language": "python",
   "name": "python3"
  },
  "language_info": {
   "codemirror_mode": {
    "name": "ipython",
    "version": 3
   },
   "file_extension": ".py",
   "mimetype": "text/x-python",
   "name": "python",
   "nbconvert_exporter": "python",
   "pygments_lexer": "ipython3",
   "version": "3.10.12"
  }
 },
 "nbformat": 4,
 "nbformat_minor": 5
}
