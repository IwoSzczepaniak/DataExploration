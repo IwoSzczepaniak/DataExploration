{
 "cells": [
  {
   "cell_type": "code",
   "execution_count": 7,
   "id": "5b579bc3-149c-42cb-8793-f2857bda5ca4",
   "metadata": {},
   "outputs": [],
   "source": [
    "import pyspark\n",
    "from pyspark.sql import SparkSession\n",
    "import matplotlib.pyplot as plt\n",
    "import numpy as np\n",
    "from pyspark.ml.regression import LinearRegression\n",
    "from pyspark.ml.feature import VectorAssembler\n",
    "from pyspark.ml.linalg import Vectors"
   ]
  },
  {
   "cell_type": "code",
   "execution_count": 2,
   "id": "64c547d7-e7d6-4edd-a54f-06a0bbd30b4a",
   "metadata": {},
   "outputs": [
    {
     "name": "stderr",
     "output_type": "stream",
     "text": [
      "Setting default log level to \"WARN\".\n",
      "To adjust logging level use sc.setLogLevel(newLevel). For SparkR, use setLogLevel(newLevel).\n",
      "25/04/07 19:37:14 WARN NativeCodeLoader: Unable to load native-hadoop library for your platform... using builtin-java classes where applicable\n"
     ]
    }
   ],
   "source": [
    "spark = SparkSession.builder.appName(\"ChinaEnergyAnalysis\").getOrCreate()"
   ]
  },
  {
   "cell_type": "code",
   "execution_count": 3,
   "id": "00d1dc2c-033b-4686-9aab-cafd580635ae",
   "metadata": {},
   "outputs": [],
   "source": [
    "df = spark.read.format(\"csv\").option(\"header\", \"true\").option(\"inferschema\",\"true\").load(\"data/owid-energy-data.csv.gz\")"
   ]
  },
  {
   "cell_type": "code",
   "execution_count": 4,
   "id": "c791b67b-b38f-4676-aa9f-b924a7717aee",
   "metadata": {},
   "outputs": [],
   "source": [
    "df_cn = df.select('year','population','electricity_demand').where(\"country == 'China' AND electricity_demand IS NOT NULL\")\n"
   ]
  },
  {
   "cell_type": "code",
   "execution_count": 5,
   "id": "dcae9179-3c8b-45c3-a212-c0f7485269f0",
   "metadata": {},
   "outputs": [],
   "source": [
    "df2 = df.select(\"country\",\"year\",\"population\",\"electricity_demand\").where(\"country like \\'Po%\\' AND year >= 2000\")"
   ]
  },
  {
   "cell_type": "code",
   "execution_count": 8,
   "id": "b044f21f-524d-4922-a949-aa99ef6766a3",
   "metadata": {},
   "outputs": [
    {
     "name": "stdout",
     "output_type": "stream",
     "text": [
      "+----+----------+------------------+---------------+\n",
      "|year|population|electricity_demand|       features|\n",
      "+----+----------+------------------+---------------+\n",
      "|2000|1264099072|           1346.85|[1.264099072E9]|\n",
      "|2001|1272739584|           1472.19|[1.272739584E9]|\n",
      "|2002|1280926080|           1645.61| [1.28092608E9]|\n",
      "|2003|1288873344|           1903.22|[1.288873344E9]|\n",
      "|2004|1296816768|           2197.23|[1.296816768E9]|\n",
      "+----+----------+------------------+---------------+\n",
      "only showing top 5 rows\n",
      "\n"
     ]
    },
    {
     "name": "stderr",
     "output_type": "stream",
     "text": [
      "25/04/07 19:42:08 WARN InstanceBuilder: Failed to load implementation from:dev.ludovic.netlib.blas.JNIBLAS\n",
      "25/04/07 19:42:08 WARN InstanceBuilder: Failed to load implementation from:dev.ludovic.netlib.blas.VectorBLAS\n"
     ]
    },
    {
     "name": "stdout",
     "output_type": "stream",
     "text": [
      "RMSE: 385.3277526451458\n",
      "r2: 0.9718833109232434\n",
      "iterations: 4\n",
      "demand = [4.2259922733572943e-05]*population  -52582.60663196023\n",
      "\n",
      "Year-based regression:\n",
      "RMSE: 197.60475088211462\n",
      "r2: 0.992605677930012\n",
      "iterations: 4\n",
      "demand = [345.13683014301574]*year  -689387.0897654308\n"
     ]
    }
   ],
   "source": [
    "df_cn = df_cn.orderBy('year')\n",
    "y = df_cn.select('year').rdd.flatMap(lambda x: x).collect()\n",
    "pop = df_cn.select('population').rdd.flatMap(lambda x: x).collect()\n",
    "dem = df_cn.select('electricity_demand').rdd.flatMap(lambda x: x).collect()"
   ]
  },
  {
   "cell_type": "code",
   "execution_count": null,
   "id": "52ec1905-577d-4380-8def-fe20325658f2",
   "metadata": {},
   "outputs": [],
   "source": []
  },
  {
   "cell_type": "code",
   "execution_count": null,
   "id": "66487935-f33d-48a9-b4f1-5cf56204781a",
   "metadata": {},
   "outputs": [],
   "source": [
    "# Plot electricity demand vs. year\n",
    "plt.figure(figsize=(10, 6))\n",
    "plt.plot(y, dem, label='demand')\n",
    "plt.xlabel('Year')\n",
    "plt.ylabel('Electricity Demand (TWh)')\n",
    "plt.title('China Electricity Demand vs. Year')\n",
    "plt.grid(True)\n",
    "plt.savefig('china_demand_vs_year.png')\n",
    "plt.close()"
   ]
  },
  {
   "cell_type": "code",
   "execution_count": null,
   "id": "fc905450-375b-4811-9aa9-132499626226",
   "metadata": {},
   "outputs": [],
   "source": [
    "\n",
    "# Plot electricity demand vs. population (scatter plot)\n",
    "plt.figure(figsize=(10, 6))\n",
    "plt.scatter(pop, dem)\n",
    "plt.xlabel('Population')\n",
    "plt.ylabel('Electricity Demand (TWh)')\n",
    "plt.title('China Electricity Demand vs. Population')\n",
    "plt.grid(True)\n",
    "plt.savefig('china_demand_vs_population.png')\n",
    "plt.close()"
   ]
  },
  {
   "cell_type": "code",
   "execution_count": null,
   "id": "b9dd169f-ffc3-4699-abe4-a53566343fe7",
   "metadata": {},
   "outputs": [],
   "source": [
    "\n",
    "# Regression analysis: Population vs. Electricity Demand\n",
    "va_pop = VectorAssembler().setInputCols([\"population\"]).setOutputCol(\"features\")\n",
    "df_cn_pop = va_pop.transform(df_cn)\n",
    "df_cn_pop.show(5)\n",
    "\n",
    "# Linear Regression model\n",
    "lr_pop = LinearRegression()\\\n",
    "  .setMaxIter(10)\\\n",
    "  .setRegParam(0.1)\\\n",
    "  .setElasticNetParam(0.5)\\\n",
    "  .setFeaturesCol(\"features\")\\\n",
    "  .setLabelCol(\"electricity_demand\")\n",
    "\n",
    "model_pop = lr_pop.fit(df_cn_pop)\n",
    "\n",
    "# Display metrics and regression equation\n",
    "print(f'RMSE: {model_pop.summary.rootMeanSquaredError}')\n",
    "print(f'r2: {model_pop.summary.r2}')\n",
    "print(f'iterations: {model_pop.summary.totalIterations}')\n",
    "print(f'demand = {model_pop.coefficients}*population {\"+\" if model_pop.intercept > 0 else \"\"} {model_pop.intercept}')\n",
    "\n",
    "# Plot fitted function\n",
    "pop_min = np.min(pop)\n",
    "pop_max = np.max(pop)\n",
    "pop_range = np.linspace(pop_min, pop_max, 100)\n",
    "\n",
    "# Calculate predictions\n",
    "pop_preds = [model_pop.predict(Vectors.dense([p])) for p in pop_range]\n",
    "\n",
    "# Plot the scatter points and the fitted line\n",
    "plt.figure(figsize=(10, 6))\n",
    "plt.scatter(pop, dem, label='Actual Demand')\n",
    "plt.plot(pop_range, pop_preds, 'r-', label='Fitted Function', linewidth=2)\n",
    "plt.xlabel('Population')\n",
    "plt.ylabel('Electricity Demand (TWh)')\n",
    "plt.title('China: Electricity Demand vs. Population with Linear Regression')\n",
    "plt.legend()\n",
    "plt.grid(True)\n",
    "plt.savefig('china_demand_vs_population_regression.png')\n",
    "plt.close()\n",
    "\n",
    "# Also perform analysis with year as the feature for comparison\n",
    "va_year = VectorAssembler().setInputCols([\"year\"]).setOutputCol(\"features\")\n",
    "df_cn_year = va_year.transform(df_cn)\n",
    "\n",
    "# Linear Regression model for year\n",
    "lr_year = LinearRegression()\\\n",
    "  .setMaxIter(10)\\\n",
    "  .setRegParam(0.1)\\\n",
    "  .setElasticNetParam(0.5)\\\n",
    "  .setFeaturesCol(\"features\")\\\n",
    "  .setLabelCol(\"electricity_demand\")\n",
    "\n",
    "model_year = lr_year.fit(df_cn_year)\n",
    "\n",
    "# Display metrics and regression equation for year\n",
    "print(\"\\nYear-based regression:\")\n",
    "print(f'RMSE: {model_year.summary.rootMeanSquaredError}')\n",
    "print(f'r2: {model_year.summary.r2}')\n",
    "print(f'iterations: {model_year.summary.totalIterations}')\n",
    "print(f'demand = {model_year.coefficients}*year {\"+\" if model_year.intercept > 0 else \"\"} {model_year.intercept}')\n",
    "\n",
    "# Plot year-based regression\n",
    "year_min = np.min(y)\n",
    "year_max = np.max(y)\n",
    "year_range = np.linspace(year_min-1, year_max+1, 100)\n",
    "\n",
    "year_preds = [model_year.predict(Vectors.dense([yr])) for yr in year_range]\n",
    "\n",
    "plt.figure(figsize=(10, 6))\n",
    "plt.scatter(y, dem, label='Actual Demand')\n",
    "plt.plot(year_range, year_preds, 'g-', label='Fitted Function', linewidth=2)\n",
    "plt.xlabel('Year')\n",
    "plt.ylabel('Electricity Demand (TWh)')\n",
    "plt.title('China: Electricity Demand vs. Year with Linear Regression')\n",
    "plt.legend()\n",
    "plt.grid(True)\n",
    "plt.savefig('china_demand_vs_year_regression.png')\n",
    "plt.close()\n",
    "\n",
    "# Stop the Spark session\n",
    "spark.stop()"
   ]
  }
 ],
 "metadata": {
  "kernelspec": {
   "display_name": "Python 3 (ipykernel)",
   "language": "python",
   "name": "python3"
  },
  "language_info": {
   "codemirror_mode": {
    "name": "ipython",
    "version": 3
   },
   "file_extension": ".py",
   "mimetype": "text/x-python",
   "name": "python",
   "nbconvert_exporter": "python",
   "pygments_lexer": "ipython3",
   "version": "3.10.12"
  }
 },
 "nbformat": 4,
 "nbformat_minor": 5
}
